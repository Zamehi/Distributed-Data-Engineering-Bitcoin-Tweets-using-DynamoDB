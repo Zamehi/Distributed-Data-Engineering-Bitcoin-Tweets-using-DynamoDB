{
 "cells": [
  {
   "cell_type": "markdown",
   "id": "0ce317f3",
   "metadata": {},
   "source": [
    "# Getting Dataset"
   ]
  },
  {
   "cell_type": "code",
   "execution_count": null,
   "id": "94256d85",
   "metadata": {},
   "outputs": [],
   "source": [
    "pip install kagglehub\n"
   ]
  },
  {
   "cell_type": "code",
   "execution_count": 5,
   "id": "a692a78a",
   "metadata": {},
   "outputs": [
    {
     "name": "stderr",
     "output_type": "stream",
     "text": [
      "c:\\Users\\Zunaira\\Documents\\8th Semester\\DDE\\A01\\Distributed-Data-Engineering-Bitcoin-Tweets-using-DynamoDB\\venv\\lib\\site-packages\\tqdm\\auto.py:21: TqdmWarning: IProgress not found. Please update jupyter and ipywidgets. See https://ipywidgets.readthedocs.io/en/stable/user_install.html\n",
      "  from .autonotebook import tqdm as notebook_tqdm\n"
     ]
    },
    {
     "name": "stdout",
     "output_type": "stream",
     "text": [
      "Downloading from https://www.kaggle.com/api/v1/datasets/download/kaushiksuresh147/bitcoin-tweets?dataset_version_number=54...\n"
     ]
    },
    {
     "name": "stderr",
     "output_type": "stream",
     "text": [
      "100%|██████████| 695M/695M [08:34<00:00, 1.42MB/s] "
     ]
    },
    {
     "name": "stdout",
     "output_type": "stream",
     "text": [
      "Extracting files...\n"
     ]
    },
    {
     "name": "stderr",
     "output_type": "stream",
     "text": [
      "\n"
     ]
    },
    {
     "name": "stdout",
     "output_type": "stream",
     "text": [
      "Path to dataset files: C:\\Users\\Zunaira\\.cache\\kagglehub\\datasets\\kaushiksuresh147\\bitcoin-tweets\\versions\\54\n"
     ]
    }
   ],
   "source": [
    "import kagglehub\n",
    "\n",
    "# Download latest version\n",
    "path = kagglehub.dataset_download(\"kaushiksuresh147/bitcoin-tweets\")\n",
    "\n",
    "print(\"Path to dataset files:\", path)"
   ]
  },
  {
   "cell_type": "markdown",
   "id": "352f3ecc",
   "metadata": {},
   "source": [
    "## Analyzing Dataset"
   ]
  },
  {
   "cell_type": "code",
   "execution_count": 39,
   "id": "6127a6f0",
   "metadata": {},
   "outputs": [
    {
     "name": "stdout",
     "output_type": "stream",
     "text": [
      "=== DataFrame Info ===\n",
      "<class 'pandas.core.frame.DataFrame'>\n",
      "RangeIndex: 500 entries, 0 to 499\n",
      "Data columns (total 13 columns):\n",
      " #   Column            Non-Null Count  Dtype  \n",
      "---  ------            --------------  -----  \n",
      " 0   user_name         500 non-null    object \n",
      " 1   user_location     303 non-null    object \n",
      " 2   user_description  480 non-null    object \n",
      " 3   user_created      500 non-null    object \n",
      " 4   user_followers    500 non-null    float64\n",
      " 5   user_friends      500 non-null    int64  \n",
      " 6   user_favourites   500 non-null    int64  \n",
      " 7   user_verified     500 non-null    bool   \n",
      " 8   date              500 non-null    object \n",
      " 9   text              500 non-null    object \n",
      " 10  hashtags          405 non-null    object \n",
      " 11  source            496 non-null    object \n",
      " 12  is_retweet        500 non-null    bool   \n",
      "dtypes: bool(2), float64(1), int64(2), object(8)\n",
      "memory usage: 44.1+ KB\n",
      "None\n",
      "\n",
      "=== Column Data Types ===\n",
      "user_name            object\n",
      "user_location        object\n",
      "user_description     object\n",
      "user_created         object\n",
      "user_followers      float64\n",
      "user_friends          int64\n",
      "user_favourites       int64\n",
      "user_verified          bool\n",
      "date                 object\n",
      "text                 object\n",
      "hashtags             object\n",
      "source               object\n",
      "is_retweet             bool\n",
      "dtype: object\n",
      "\n",
      "=== Sample Data (First 5 Rows) ===\n",
      "                                  user_name    user_location  \\\n",
      "0                             DeSota Wilson      Atlanta, GA   \n",
      "1                                  CryptoND              NaN   \n",
      "2                                 Tdlmatias  London, England   \n",
      "3                      Crypto is the future              NaN   \n",
      "4  Alex Kirchmaier 🇦🇹🇸🇪 #FactsSuperspreader           Europa   \n",
      "\n",
      "                                    user_description         user_created  \\\n",
      "0  Biz Consultant, real estate, fintech, startups...  2009-04-26 20:05:09   \n",
      "1  😎 BITCOINLIVE is a Dutch platform aimed at inf...  2019-10-17 20:12:10   \n",
      "2  IM Academy : The best #forex, #SelfEducation, ...  2014-11-10 10:50:37   \n",
      "3  I will post a lot of buying signals for BTC tr...  2019-09-28 16:48:12   \n",
      "4  Co-founder @RENJERJerky | Forbes 30Under30 | I...  2016-02-03 13:15:55   \n",
      "\n",
      "   user_followers  user_friends  user_favourites  user_verified  \\\n",
      "0          8534.0          7605             4838          False   \n",
      "1          6769.0          1532            25483          False   \n",
      "2           128.0           332              924          False   \n",
      "3           625.0           129               14          False   \n",
      "4          1249.0          1472            10482          False   \n",
      "\n",
      "                  date                                               text  \\\n",
      "0  2021-02-10 23:59:04  Blue Ridge Bank shares halted by NYSE after #b...   \n",
      "1  2021-02-10 23:58:48  😎 Today, that's this #Thursday, we will do a \"...   \n",
      "2  2021-02-10 23:54:48  Guys evening, I have read this article about B...   \n",
      "3  2021-02-10 23:54:33  $BTC A big chance in a billion! Price: \\487264...   \n",
      "4  2021-02-10 23:54:06  This network is secured by 9 508 nodes as of t...   \n",
      "\n",
      "                                    hashtags               source  is_retweet  \n",
      "0                                ['bitcoin']      Twitter Web App       False  \n",
      "1  ['Thursday', 'Btc', 'wallet', 'security']  Twitter for Android       False  \n",
      "2                                        NaN      Twitter Web App       False  \n",
      "3         ['Bitcoin', 'FX', 'BTC', 'crypto']              dlvr.it       False  \n",
      "4                                    ['BTC']      Twitter Web App       False  \n",
      "\n",
      "=== Value counts for user_followers ===\n",
      "user_followers\n",
      "26103.0    21\n",
      "1.0        12\n",
      "4150.0     11\n",
      "6.0        10\n",
      "1281.0      9\n",
      "204.0       9\n",
      "33038.0     8\n",
      "42.0        7\n",
      "662.0       7\n",
      "8534.0      7\n",
      "314.0       6\n",
      "0.0         6\n",
      "5366.0      6\n",
      "49.0        5\n",
      "186.0       5\n",
      "1036.0      5\n",
      "3309.0      5\n",
      "137.0       4\n",
      "625.0       4\n",
      "4052.0      4\n",
      "Name: count, dtype: int64\n",
      "\n",
      "=== Value counts for user_friends ===\n",
      "user_friends\n",
      "0        32\n",
      "1        27\n",
      "20718    21\n",
      "25       10\n",
      "72        9\n",
      "1024      8\n",
      "155       8\n",
      "7605      7\n",
      "35        6\n",
      "201       6\n",
      "3         6\n",
      "927       6\n",
      "182       5\n",
      "347       5\n",
      "1976      5\n",
      "5         5\n",
      "129       4\n",
      "16        4\n",
      "281       4\n",
      "76        4\n",
      "Name: count, dtype: int64\n",
      "\n",
      "=== Value counts for user_favourites ===\n",
      "user_favourites\n",
      "6296     21\n",
      "1        16\n",
      "0        16\n",
      "3        13\n",
      "1802     11\n",
      "72        9\n",
      "8348      8\n",
      "915       7\n",
      "4838      7\n",
      "8         6\n",
      "18        6\n",
      "12050     6\n",
      "34484     6\n",
      "14        6\n",
      "12        5\n",
      "201       5\n",
      "8639      5\n",
      "10        5\n",
      "5020      5\n",
      "647       4\n",
      "Name: count, dtype: int64\n"
     ]
    }
   ],
   "source": [
    "import pandas as pd\n",
    "\n",
    "# Read the first 500 rows of the CSV file\n",
    "df = pd.read_csv('data/Bitcoin_tweets.csv', nrows=500)  # Replace 'your_file.csv' with your actual file path\n",
    "\n",
    "# Display basic info about the dataframe\n",
    "print(\"=== DataFrame Info ===\")\n",
    "print(df.info())\n",
    "\n",
    "# Display the data types of each column\n",
    "print(\"\\n=== Column Data Types ===\")\n",
    "print(df.dtypes)\n",
    "\n",
    "# Display sample data from each column to inspect values\n",
    "print(\"\\n=== Sample Data (First 5 Rows) ===\")\n",
    "print(df.head())\n",
    "\n",
    "# For numeric columns that might have issues, show value counts\n",
    "numeric_cols = ['user_followers', 'user_friends', 'user_favourites']\n",
    "for col in numeric_cols:\n",
    "    if col in df.columns:\n",
    "        print(f\"\\n=== Value counts for {col} ===\")\n",
    "        print(df[col].value_counts(dropna=False).head(20))  # Show top 20 values including NaN"
   ]
  },
  {
   "cell_type": "code",
   "execution_count": 16,
   "id": "e15edc7e",
   "metadata": {},
   "outputs": [],
   "source": [
    "import boto3\n",
    "import pandas as pd\n",
    "import json\n",
    "from datetime import datetime\n",
    "from boto3.dynamodb.conditions import Key"
   ]
  },
  {
   "cell_type": "code",
   "execution_count": 34,
   "id": "3f78b646",
   "metadata": {},
   "outputs": [],
   "source": [
    "# Explicit credentials and session\n",
    "session = boto3.Session(\n",
    "    aws_access_key_id='dummy',\n",
    "    aws_secret_access_key='dummy',\n",
    "    region_name='us-east-1'\n",
    ")"
   ]
  },
  {
   "cell_type": "code",
   "execution_count": null,
   "id": "fdd5bb39",
   "metadata": {},
   "outputs": [],
   "source": [
    "# Use session for both resource and client\n",
    "dynamodb = session.resource(\n",
    "    'dynamodb',\n",
    "    endpoint_url='http://localhost:8000'\n",
    ")"
   ]
  },
  {
   "cell_type": "code",
   "execution_count": 36,
   "id": "35f7ff69",
   "metadata": {},
   "outputs": [],
   "source": [
    "table = dynamodb.Table('BitcoinTweets')"
   ]
  },
  {
   "cell_type": "markdown",
   "id": "b4360f1d",
   "metadata": {},
   "source": [
    "## Create Table"
   ]
  },
  {
   "cell_type": "code",
   "execution_count": 17,
   "id": "f0fa48a4",
   "metadata": {},
   "outputs": [],
   "source": [
    "\n",
    "def create_table():\n",
    "    # Create the table if it doesn't exist\n",
    "    table = dynamodb.create_table(\n",
    "        TableName='BitcoinTweets',\n",
    "        KeySchema=[\n",
    "            {'AttributeName': 'user_name', 'KeyType': 'HASH'},  # Partition key\n",
    "            {'AttributeName': 'date', 'KeyType': 'RANGE'}       # Sort key\n",
    "        ],\n",
    "        AttributeDefinitions=[\n",
    "            {'AttributeName': 'user_name', 'AttributeType': 'S'},\n",
    "            {'AttributeName': 'date', 'AttributeType': 'S'},\n",
    "            {'AttributeName': 'user_location', 'AttributeType': 'S'},\n",
    "            {'AttributeName': 'user_followers', 'AttributeType': 'N'},\n",
    "            {'AttributeName': 'dummy_attribute', 'AttributeType': 'S'},\n",
    "            {'AttributeName': 'hashtag', 'AttributeType': 'S'}\n",
    "        ],\n",
    "        GlobalSecondaryIndexes=[\n",
    "            {\n",
    "                'IndexName': 'LocationDateIndex',\n",
    "                'KeySchema': [\n",
    "                    {'AttributeName': 'user_location', 'KeyType': 'HASH'},\n",
    "                    {'AttributeName': 'date', 'KeyType': 'RANGE'}\n",
    "                ],\n",
    "                'Projection': {'ProjectionType': 'ALL'},\n",
    "                'ProvisionedThroughput': {'ReadCapacityUnits': 5, 'WriteCapacityUnits': 5}\n",
    "            },\n",
    "            {\n",
    "                'IndexName': 'FollowersIndex',\n",
    "                'KeySchema': [\n",
    "                    {'AttributeName': 'dummy_attribute', 'KeyType': 'HASH'},\n",
    "                    {'AttributeName': 'user_followers', 'KeyType': 'RANGE'}\n",
    "                ],\n",
    "                'Projection': {'ProjectionType': 'ALL'},\n",
    "                'ProvisionedThroughput': {'ReadCapacityUnits': 5, 'WriteCapacityUnits': 5}\n",
    "            },\n",
    "            {\n",
    "                'IndexName': 'HashtagIndex',\n",
    "                'KeySchema': [\n",
    "                    {'AttributeName': 'hashtag', 'KeyType': 'HASH'},\n",
    "                    {'AttributeName': 'date', 'KeyType': 'RANGE'}\n",
    "                ],\n",
    "                'Projection': {'ProjectionType': 'ALL'},\n",
    "                'ProvisionedThroughput': {'ReadCapacityUnits': 5, 'WriteCapacityUnits': 5}\n",
    "            }\n",
    "        ],\n",
    "        ProvisionedThroughput={'ReadCapacityUnits': 5, 'WriteCapacityUnits': 5}\n",
    "    )\n",
    "    return table"
   ]
  },
  {
   "cell_type": "markdown",
   "id": "9dee2d76",
   "metadata": {},
   "source": [
    "## Insert Data"
   ]
  },
  {
   "cell_type": "code",
   "execution_count": 50,
   "id": "e95f83a4",
   "metadata": {},
   "outputs": [],
   "source": [
    "def insert_data(csv_file):\n",
    "    dynamodb = boto3.resource('dynamodb', region_name='us-east-1')  # or your preferred region\n",
    "\n",
    "    table = dynamodb.Table('BitcoinTweets')\n",
    "    \n",
    "    chunksize = 500\n",
    "    success_count = 0\n",
    "    error_count = 0\n",
    "\n",
    "    def safe_convert_to_int(value):\n",
    "        \"\"\"Safely convert various string formats to integers\"\"\"\n",
    "        if pd.isna(value):\n",
    "            return 0\n",
    "        try:\n",
    "            # Handle 'False' strings\n",
    "            if str(value).lower() == 'false':\n",
    "                return 0\n",
    "            # Handle float strings like '425.0'\n",
    "            if isinstance(value, str) and '.' in value:\n",
    "                return int(float(value))\n",
    "            return int(value)\n",
    "        except:\n",
    "            return 0\n",
    "\n",
    "    for chunk in pd.read_csv(csv_file, chunksize=chunksize):\n",
    "        with table.batch_writer(overwrite_by_pkeys=['user_name', 'date']) as batch:\n",
    "            for _, row in chunk.iterrows():\n",
    "                try:\n",
    "                    # Process hashtags\n",
    "                    hashtags = []\n",
    "                    if pd.notna(row['hashtags']):\n",
    "                        try:\n",
    "                            hashtags = eval(row['hashtags']) if isinstance(row['hashtags'], str) else []\n",
    "                        except:\n",
    "                            hashtags = str(row['hashtags']).strip('[]').replace(\"'\", \"\").split(', ')\n",
    "                    \n",
    "                    # Convert dates to string format\n",
    "                    date_str = str(pd.to_datetime(row['date']).date()) if pd.notna(row['date']) else ''\n",
    "                    user_created = str(pd.to_datetime(row['user_created']).date()) if pd.notna(row['user_created']) else ''\n",
    "\n",
    "                    item = {\n",
    "                        'user_name': str(row['user_name']),\n",
    "                        'date': date_str,\n",
    "                        'user_location': str(row['user_location']) if pd.notna(row['user_location']) else 'unknown',\n",
    "                        'user_description': str(row['user_description']) if pd.notna(row['user_description']) else '',\n",
    "                        'user_created': user_created,\n",
    "                        'user_followers': safe_convert_to_int(row['user_followers']),\n",
    "                        'user_friends': safe_convert_to_int(row['user_friends']),\n",
    "                        'user_favourites': safe_convert_to_int(row['user_favourites']),\n",
    "                        'user_verified': bool(row['user_verified']),\n",
    "                        'text': str(row['text']),\n",
    "                        'hashtags': hashtags,\n",
    "                        'source': str(row['source']) if pd.notna(row['source']) else '',\n",
    "                        'is_retweet': bool(row['is_retweet']),\n",
    "                        'dummy_attribute': 'ALL_USERS'\n",
    "                    }\n",
    "\n",
    "                    batch.put_item(Item=item)\n",
    "                    success_count += 1\n",
    "                except Exception as e:\n",
    "                    error_count += 1\n",
    "                    if error_count < 10:  # Only show first 10 errors\n",
    "                        print(f\"❌ Error in row {_}: {str(e)}\")\n",
    "                        print(f\"Problematic values: {row[['user_name', 'date', 'user_followers', 'user_friends', 'user_favourites']].to_dict()}\")\n",
    "\n",
    "    print(f\"\\n✅ Data insertion completed. Success: {success_count}, Errors: {error_count}\")"
   ]
  },
  {
   "cell_type": "code",
   "execution_count": 40,
   "id": "71479318",
   "metadata": {},
   "outputs": [],
   "source": [
    "def insert_data(csv_file):\n",
    "    chunksize = 500  # Tune if needed\n",
    "\n",
    "    for chunk in pd.read_csv(csv_file, chunksize=chunksize):\n",
    "        with table.batch_writer(overwrite_by_pkeys=['user_name', 'date']) as batch:\n",
    "            for _, row in chunk.iterrows():\n",
    "                try:\n",
    "                    # Process hashtags (convert from string representation of list to actual list)\n",
    "                    hashtags = []\n",
    "                    if pd.notna(row['hashtags']):\n",
    "                        try:\n",
    "                            # Handle both \"[...]\" and NaN cases\n",
    "                            hashtags = eval(row['hashtags']) if isinstance(row['hashtags'], str) else []\n",
    "                        except:\n",
    "                            # Fallback for malformed hashtag strings\n",
    "                            hashtags = str(row['hashtags']).strip('[]').replace(\"'\", \"\").split(', ')\n",
    "                    \n",
    "                    # Convert date to string format (assuming it's in ISO format)\n",
    "                    date_str = str(pd.to_datetime(row['date']).date()) if pd.notna(row['date']) else ''\n",
    "\n",
    "                    item = {\n",
    "                        'user_name': str(row['user_name']),\n",
    "                        'date': date_str,  # Using just the date part\n",
    "                        'user_location': str(row['user_location']) if pd.notna(row['user_location']) else 'unknown',\n",
    "                        'user_description': str(row['user_description']) if pd.notna(row['user_description']) else '',\n",
    "                        'user_created': str(pd.to_datetime(row['user_created']).date()) if pd.notna(row['user_created']) else '',\n",
    "                        'user_followers': int(float(row['user_followers'])),  # Convert float to int\n",
    "                        'user_friends': int(row['user_friends']),\n",
    "                        'user_favourites': int(row['user_favourites']),\n",
    "                        'user_verified': bool(row['user_verified']),\n",
    "                        'text': str(row['text']),\n",
    "                        'hashtags': hashtags,\n",
    "                        'source': str(row['source']) if pd.notna(row['source']) else '',\n",
    "                        'is_retweet': bool(row['is_retweet']),\n",
    "                        'dummy_attribute': 'ALL_USERS'\n",
    "                    }\n",
    "\n",
    "                    batch.put_item(Item=item)\n",
    "                except Exception as e:\n",
    "                    print(f\"❌ Skipping row due to error: {e}\")\n",
    "                    print(f\"Problematic row: {row.to_dict()}\")  # Show the entire row as dict\n",
    "\n",
    "    print(\"✅ Data inserted successfully from Kaggle dataset!\")"
   ]
  },
  {
   "cell_type": "markdown",
   "id": "7bde82b5",
   "metadata": {},
   "source": [
    "# cross\n"
   ]
  },
  {
   "cell_type": "code",
   "execution_count": null,
   "id": "108d5558",
   "metadata": {},
   "outputs": [],
   "source": [
    "def insert_data(csv_file):\n",
    "    chunksize = 500  # Tune if needed\n",
    "\n",
    "    for chunk in pd.read_csv(csv_file, chunksize=chunksize):\n",
    "        with table.batch_writer(overwrite_by_pkeys=['user_name', 'date']) as batch:\n",
    "            for _, row in chunk.iterrows():\n",
    "                try:\n",
    "                    hashtags = row['hashtags'].strip('[]').replace(\"'\", \"\").split(', ') if pd.notna(row['hashtags']) else []\n",
    "\n",
    "                    item = {\n",
    "                        'user_name': str(row['user_name']),\n",
    "                        'date': str(row['date']),\n",
    "                        'user_location': str(row['user_location']) if pd.notna(row['user_location']) else 'unknown',\n",
    "                        'user_description': str(row['user_description']) if pd.notna(row['user_description']) else '',\n",
    "                        'user_created': str(row['user_created']),\n",
    "                        'user_followers': int(row['user_followers']) if pd.notna(row['user_followers']) else 0,\n",
    "                        'user_friends': int(row['user_friends']) if pd.notna(row['user_friends']) else 0,\n",
    "                        'user_favourites': int(row['user_favourites']) if 'user_favourites' in row and pd.notna(row['user_favourites']) else 0,\n",
    "                        'user_verified': bool(row['user_verified']) if pd.notna(row['user_verified']) else False,\n",
    "                        'text': str(row['text']),\n",
    "                        'hashtags': hashtags,\n",
    "                        'source': str(row['source']) if pd.notna(row['source']) else '',\n",
    "                        'is_retweet': bool(row['is_retweet']) if pd.notna(row['is_retweet']) else False,\n",
    "                        'dummy_attribute': 'ALL_USERS'\n",
    "                    }\n",
    "\n",
    "                    batch.put_item(Item=item)\n",
    "                except Exception as e:\n",
    "                    print(f\"❌ Skipping row due to error: {e}\")\n",
    "\n",
    "    print(\"✅ Data inserted successfully from Kaggle dataset!\")"
   ]
  },
  {
   "cell_type": "code",
   "execution_count": null,
   "id": "f5ce9f9a",
   "metadata": {},
   "outputs": [],
   "source": [
    "\n",
    "def insert_data(csv_file):\n",
    "    # Read the CSV file\n",
    "    df = pd.read_csv(csv_file)\n",
    "    \n",
    "    # Process each row\n",
    "    for _, row in df.iterrows():\n",
    "        # Parse hashtags from string to list if needed\n",
    "        hashtags = []\n",
    "        if isinstance(row['hashtags'], str) and row['hashtags']:\n",
    "            hashtags = row['hashtags'].strip('[]').replace(\"'\", \"\").split(', ')\n",
    "        \n",
    "        # Basic item for the main table\n",
    "        item = {\n",
    "            'user_name': str(row['user_name']),\n",
    "            'date': str(row['date']),\n",
    "            'user_location': str(row['user_location']) if pd.notna(row['user_location']) else 'unknown',\n",
    "            'user_description': str(row['user_description']) if pd.notna(row['user_description']) else '',\n",
    "            'user_created': str(row['user_created']),\n",
    "            'user_followers': int(row['user_followers']) if pd.notna(row['user_followers']) else 0,\n",
    "            'user_friends': int(row['user_friends']) if pd.notna(row['user_friends']) else 0,\n",
    "            'user_favourites': int(row['user_favourites']) if pd.notna(row['user_favorites']) else 0,\n",
    "            'user_verified': bool(row['user_verified']) if pd.notna(row['user_verified']) else False,\n",
    "            'text': str(row['text']),\n",
    "            'hashtags': hashtags,\n",
    "            'source': str(row['source']) if pd.notna(row['source']) else '',\n",
    "            'is_retweet': bool(row['is_retweet']) if pd.notna(row['is_retweet']) else False,\n",
    "            'dummy_attribute': 'ALL_USERS'  # For FollowersIndex\n",
    "        }\n",
    "\n",
    "        # Insert the main item\n",
    "        table.put_item(Item=item)\n",
    "        \n",
    "        # For HashtagIndex, create an entry for each hashtag\n",
    "        for tag in hashtags:\n",
    "            hashtag_item = item.copy()\n",
    "            hashtag_item['hashtag'] = tag\n",
    "            # This would go to the HashtagIndex through GSI\n",
    "            table.put_item(Item=hashtag_item)"
   ]
  },
  {
   "cell_type": "markdown",
   "id": "32ff1daf",
   "metadata": {},
   "source": [
    "## Query 1"
   ]
  },
  {
   "cell_type": "code",
   "execution_count": 19,
   "id": "114abe29",
   "metadata": {},
   "outputs": [],
   "source": [
    "\n",
    "# Query 1: All tweets of a user\n",
    "def get_user_tweets(username):\n",
    "    response = table.query(\n",
    "        KeyConditionExpression=Key('user_name').eq(username)\n",
    "    )\n",
    "    return response['Items']\n"
   ]
  },
  {
   "cell_type": "markdown",
   "id": "c1c3ab9f",
   "metadata": {},
   "source": [
    "## Query 2"
   ]
  },
  {
   "cell_type": "code",
   "execution_count": 20,
   "id": "c5612dbc",
   "metadata": {},
   "outputs": [],
   "source": [
    "\n",
    "# Query 2: All tweets by the users from the same location\n",
    "def get_tweets_by_location(location):\n",
    "    response = table.query(\n",
    "        IndexName='LocationDateIndex',\n",
    "        KeyConditionExpression=Key('user_location').eq(location)\n",
    "    )\n",
    "    return response['Items']"
   ]
  },
  {
   "cell_type": "markdown",
   "id": "5e9b86a4",
   "metadata": {},
   "source": [
    "## Query 3"
   ]
  },
  {
   "cell_type": "code",
   "execution_count": 21,
   "id": "a3f1bf3e",
   "metadata": {},
   "outputs": [],
   "source": [
    "\n",
    "# Query 3: Top k users with most followers\n",
    "def get_top_users_by_followers(k=10):\n",
    "    response = table.query(\n",
    "        IndexName='FollowersIndex',\n",
    "        KeyConditionExpression=Key('dummy_attribute').eq('ALL_USERS'),\n",
    "        ScanIndexForward=False,  # Descending order (highest followers first)\n",
    "        Limit=k\n",
    "    )\n",
    "    \n",
    "    # Since there might be duplicate users (one per tweet), get unique users\n",
    "    unique_users = {}\n",
    "    for item in response['Items']:\n",
    "        if item['user_name'] not in unique_users:\n",
    "            unique_users[item['user_name']] = item\n",
    "            \n",
    "    # Return top k unique users\n",
    "    return list(unique_users.values())[:k]\n"
   ]
  },
  {
   "cell_type": "markdown",
   "id": "adc92cd2",
   "metadata": {},
   "source": [
    "## Query 4"
   ]
  },
  {
   "cell_type": "code",
   "execution_count": 22,
   "id": "84e4c7ba",
   "metadata": {},
   "outputs": [],
   "source": [
    "# Query 4: Tweets by top k users with the most followers\n",
    "def get_tweets_by_top_users(k=10):\n",
    "    # First get top k users\n",
    "    top_users = get_top_users_by_followers(k)\n",
    "    \n",
    "    # Then get all tweets by these users\n",
    "    all_tweets = []\n",
    "    for user in top_users:\n",
    "        username = user['user_name']\n",
    "        user_tweets = get_user_tweets(username)\n",
    "        all_tweets.extend(user_tweets)\n",
    "    \n",
    "    return all_tweets"
   ]
  },
  {
   "cell_type": "markdown",
   "id": "01253a22",
   "metadata": {},
   "source": [
    "## Query 5"
   ]
  },
  {
   "cell_type": "code",
   "execution_count": 23,
   "id": "f7e2e383",
   "metadata": {},
   "outputs": [],
   "source": [
    "# Query 5: Top k tweets with the most matching tags\n",
    "def get_tweets_with_most_hashtags(k=10):\n",
    "    # For this we need to scan the table and count hashtags\n",
    "    # This is not efficient but DynamoDB doesn't support aggregation natively\n",
    "    response = table.scan()\n",
    "    items = response['Items']\n",
    "    \n",
    "    # Continue scanning if we have more items (pagination)\n",
    "    while 'LastEvaluatedKey' in response:\n",
    "        response = table.scan(ExclusiveStartKey=response['LastEvaluatedKey'])\n",
    "        items.extend(response['Items'])\n",
    "    \n",
    "    # Sort by hashtag count\n",
    "    items.sort(key=lambda x: len(x.get('hashtags', [])), reverse=True)\n",
    "    \n",
    "    return items[:k]"
   ]
  },
  {
   "cell_type": "markdown",
   "id": "70352fd7",
   "metadata": {},
   "source": [
    "## Query 6"
   ]
  },
  {
   "cell_type": "code",
   "execution_count": 24,
   "id": "a12d0d7e",
   "metadata": {},
   "outputs": [],
   "source": [
    "# Query 6: Delete all posts of user with followers less than a threshold\n",
    "def delete_users_with_few_followers(threshold=100):\n",
    "    # First find all users with followers below threshold\n",
    "    # This requires a full scan which is expensive for large tables\n",
    "    response = table.scan(\n",
    "        FilterExpression=Attr('user_followers').lt(threshold)\n",
    "    )\n",
    "    items_to_delete = response['Items']\n",
    "    \n",
    "    # Continue scanning if we have more items\n",
    "    while 'LastEvaluatedKey' in response:\n",
    "        response = table.scan(\n",
    "            FilterExpression=Attr('user_followers').lt(threshold),\n",
    "            ExclusiveStartKey=response['LastEvaluatedKey']\n",
    "        )\n",
    "        items_to_delete.extend(response['Items'])\n",
    "    \n",
    "    # Delete each item\n",
    "    deleted_count = 0\n",
    "    for item in items_to_delete:\n",
    "        table.delete_item(\n",
    "            Key={\n",
    "                'user_name': item['user_name'],\n",
    "                'date': item['date']\n",
    "            }\n",
    "        )\n",
    "        deleted_count += 1\n",
    "    \n",
    "    return {\n",
    "        'deleted_count': deleted_count,\n",
    "        'message': f\"Deleted {deleted_count} tweets from users with fewer than {threshold} followers\"\n",
    "    }\n"
   ]
  },
  {
   "cell_type": "markdown",
   "id": "8c78bcaf",
   "metadata": {},
   "source": [
    "## Running Insertion"
   ]
  },
  {
   "cell_type": "code",
   "execution_count": null,
   "id": "b0739f73",
   "metadata": {},
   "outputs": [],
   "source": [
    "# Run the insertion\n",
    "if __name__ == \"__main__\":\n",
    "    try:\n",
    "        # Create the table if it doesn't exist\n",
    "        create_table()\n",
    "        print(\"Table created successfully\")\n",
    "    except Exception as e:\n",
    "        print(f\"Table might already exist: {e}\")\n",
    "    \n"
   ]
  },
  {
   "cell_type": "code",
   "execution_count": 48,
   "id": "f9dc7805",
   "metadata": {},
   "outputs": [],
   "source": [
    "# AWS Configuration (add this at the top)\n",
    "AWS_REGION = 'us-east-1'  # Change to your preferred region\n",
    "AWS_PROFILE = 'default'   # Change if using a named profile\n",
    "def configure_aws():\n",
    "    \"\"\"Configure AWS credentials and region\"\"\"\n",
    "    try:\n",
    "        # Option 1: Use AWS credentials file (~/.aws/credentials)\n",
    "        session = boto3.Session(profile_name=AWS_PROFILE, region_name=AWS_REGION)\n",
    "        \n",
    "        # Verify credentials work\n",
    "        sts = session.client('sts')\n",
    "        sts.get_caller_identity()\n",
    "        return session\n",
    "    except (NoCredentialsError, ClientError) as e:\n",
    "        print(f\"AWS configuration error: {str(e)}\")\n",
    "        print(\"Please ensure you have:\")\n",
    "        print(\"1. Configured AWS credentials (aws configure)\")\n",
    "        print(\"2. Set a default region\")\n",
    "        print(\"3. Or set AWS_ACCESS_KEY_ID, AWS_SECRET_ACCESS_KEY, and AWS_REGION environment variables\")\n",
    "        raise\n"
   ]
  },
  {
   "cell_type": "code",
   "execution_count": 51,
   "id": "77d67578",
   "metadata": {},
   "outputs": [
    {
     "name": "stdout",
     "output_type": "stream",
     "text": [
      "❌ Error in row 28: Unable to locate credentials\n",
      "Problematic values: {'user_name': 'FOMO King', 'date': '2021-02-10 23:42:49', 'user_followers': 168.0, 'user_friends': 822, 'user_favourites': 6919}\n",
      "❌ Error in row 55: Unable to locate credentials\n",
      "Problematic values: {'user_name': 'Max Payne Crypto', 'date': '2021-02-10 23:29:53', 'user_followers': 7.0, 'user_friends': 36, 'user_favourites': 23}\n",
      "❌ Error in row 82: Unable to locate credentials\n",
      "Problematic values: {'user_name': 'Ｆｉｎｔｅｃｈ ＵＫ 🇬🇧', 'date': '2021-02-10 23:18:15', 'user_followers': 1950.0, 'user_friends': 110, 'user_favourites': 1378}\n",
      "❌ Error in row 113: Unable to locate credentials\n",
      "Problematic values: {'user_name': 'yadio', 'date': '2021-02-10 23:02:02', 'user_followers': 3573.0, 'user_friends': 83, 'user_favourites': 122}\n",
      "❌ Error in row 138: Unable to locate credentials\n",
      "Problematic values: {'user_name': 'Free Bitcoin', 'date': '2021-02-10 22:53:26', 'user_followers': 33038.0, 'user_friends': 1024, 'user_favourites': 8348}\n",
      "❌ Error in row 172: Unable to locate credentials\n",
      "Problematic values: {'user_name': 'Trading MarcoDaCosta', 'date': '2021-02-10 22:37:46', 'user_followers': 5366.0, 'user_friends': 927, 'user_favourites': 34484}\n",
      "❌ Error in row 200: Unable to locate credentials\n",
      "Problematic values: {'user_name': 'Stonks Memedar 📡', 'date': '2021-02-10 22:25:24', 'user_followers': 1011.0, 'user_friends': 1, 'user_favourites': 575}\n",
      "❌ Error in row 225: Unable to locate credentials\n",
      "Problematic values: {'user_name': 'HODLFIRE!🔥', 'date': '2021-02-10 22:10:55', 'user_followers': 358.0, 'user_friends': 242, 'user_favourites': 6801}\n",
      "❌ Error in row 253: Unable to locate credentials\n",
      "Problematic values: {'user_name': 'Coinstats', 'date': '2021-02-10 22:00:05', 'user_followers': 3508.0, 'user_friends': 0, 'user_favourites': 0}\n"
     ]
    },
    {
     "ename": "NoCredentialsError",
     "evalue": "Unable to locate credentials",
     "output_type": "error",
     "traceback": [
      "\u001b[1;31m---------------------------------------------------------------------------\u001b[0m",
      "\u001b[1;31mNoCredentialsError\u001b[0m                        Traceback (most recent call last)",
      "Cell \u001b[1;32mIn[51], line 2\u001b[0m\n\u001b[0;32m      1\u001b[0m \u001b[38;5;66;03m# Insert data from CSV\u001b[39;00m\n\u001b[1;32m----> 2\u001b[0m \u001b[43minsert_data\u001b[49m\u001b[43m(\u001b[49m\u001b[38;5;124;43m\"\u001b[39;49m\u001b[38;5;124;43mdata/Bitcoin_tweets.csv\u001b[39;49m\u001b[38;5;124;43m\"\u001b[39;49m\u001b[43m)\u001b[49m\n\u001b[0;32m      3\u001b[0m \u001b[38;5;28mprint\u001b[39m(\u001b[38;5;124m\"\u001b[39m\u001b[38;5;124mData inserted successfully\u001b[39m\u001b[38;5;124m\"\u001b[39m)\n",
      "Cell \u001b[1;32mIn[50], line 26\u001b[0m, in \u001b[0;36minsert_data\u001b[1;34m(csv_file)\u001b[0m\n\u001b[0;32m     23\u001b[0m         \u001b[38;5;28;01mreturn\u001b[39;00m \u001b[38;5;241m0\u001b[39m\n\u001b[0;32m     25\u001b[0m \u001b[38;5;28;01mfor\u001b[39;00m chunk \u001b[38;5;129;01min\u001b[39;00m pd\u001b[38;5;241m.\u001b[39mread_csv(csv_file, chunksize\u001b[38;5;241m=\u001b[39mchunksize):\n\u001b[1;32m---> 26\u001b[0m     \u001b[38;5;28;01mwith\u001b[39;00m table\u001b[38;5;241m.\u001b[39mbatch_writer(overwrite_by_pkeys\u001b[38;5;241m=\u001b[39m[\u001b[38;5;124m'\u001b[39m\u001b[38;5;124muser_name\u001b[39m\u001b[38;5;124m'\u001b[39m, \u001b[38;5;124m'\u001b[39m\u001b[38;5;124mdate\u001b[39m\u001b[38;5;124m'\u001b[39m]) \u001b[38;5;28;01mas\u001b[39;00m batch:\n\u001b[0;32m     27\u001b[0m         \u001b[38;5;28;01mfor\u001b[39;00m _, row \u001b[38;5;129;01min\u001b[39;00m chunk\u001b[38;5;241m.\u001b[39miterrows():\n\u001b[0;32m     28\u001b[0m             \u001b[38;5;28;01mtry\u001b[39;00m:\n\u001b[0;32m     29\u001b[0m                 \u001b[38;5;66;03m# Process hashtags\u001b[39;00m\n",
      "File \u001b[1;32mc:\\Users\\Zunaira\\Documents\\8th Semester\\DDE\\A01\\Distributed-Data-Engineering-Bitcoin-Tweets-using-DynamoDB\\venv\\lib\\site-packages\\boto3\\dynamodb\\table.py:167\u001b[0m, in \u001b[0;36mBatchWriter.__exit__\u001b[1;34m(self, exc_type, exc_value, tb)\u001b[0m\n\u001b[0;32m    163\u001b[0m \u001b[38;5;28;01mdef\u001b[39;00m\u001b[38;5;250m \u001b[39m\u001b[38;5;21m__exit__\u001b[39m(\u001b[38;5;28mself\u001b[39m, exc_type, exc_value, tb):\n\u001b[0;32m    164\u001b[0m     \u001b[38;5;66;03m# When we exit, we need to keep flushing whatever's left\u001b[39;00m\n\u001b[0;32m    165\u001b[0m     \u001b[38;5;66;03m# until there's nothing left in our items buffer.\u001b[39;00m\n\u001b[0;32m    166\u001b[0m     \u001b[38;5;28;01mwhile\u001b[39;00m \u001b[38;5;28mself\u001b[39m\u001b[38;5;241m.\u001b[39m_items_buffer:\n\u001b[1;32m--> 167\u001b[0m         \u001b[38;5;28;43mself\u001b[39;49m\u001b[38;5;241;43m.\u001b[39;49m\u001b[43m_flush\u001b[49m\u001b[43m(\u001b[49m\u001b[43m)\u001b[49m\n",
      "File \u001b[1;32mc:\\Users\\Zunaira\\Documents\\8th Semester\\DDE\\A01\\Distributed-Data-Engineering-Bitcoin-Tweets-using-DynamoDB\\venv\\lib\\site-packages\\boto3\\dynamodb\\table.py:144\u001b[0m, in \u001b[0;36mBatchWriter._flush\u001b[1;34m(self)\u001b[0m\n\u001b[0;32m    142\u001b[0m items_to_send \u001b[38;5;241m=\u001b[39m \u001b[38;5;28mself\u001b[39m\u001b[38;5;241m.\u001b[39m_items_buffer[: \u001b[38;5;28mself\u001b[39m\u001b[38;5;241m.\u001b[39m_flush_amount]\n\u001b[0;32m    143\u001b[0m \u001b[38;5;28mself\u001b[39m\u001b[38;5;241m.\u001b[39m_items_buffer \u001b[38;5;241m=\u001b[39m \u001b[38;5;28mself\u001b[39m\u001b[38;5;241m.\u001b[39m_items_buffer[\u001b[38;5;28mself\u001b[39m\u001b[38;5;241m.\u001b[39m_flush_amount :]\n\u001b[1;32m--> 144\u001b[0m response \u001b[38;5;241m=\u001b[39m \u001b[38;5;28;43mself\u001b[39;49m\u001b[38;5;241;43m.\u001b[39;49m\u001b[43m_client\u001b[49m\u001b[38;5;241;43m.\u001b[39;49m\u001b[43mbatch_write_item\u001b[49m\u001b[43m(\u001b[49m\n\u001b[0;32m    145\u001b[0m \u001b[43m    \u001b[49m\u001b[43mRequestItems\u001b[49m\u001b[38;5;241;43m=\u001b[39;49m\u001b[43m{\u001b[49m\u001b[38;5;28;43mself\u001b[39;49m\u001b[38;5;241;43m.\u001b[39;49m\u001b[43m_table_name\u001b[49m\u001b[43m:\u001b[49m\u001b[43m \u001b[49m\u001b[43mitems_to_send\u001b[49m\u001b[43m}\u001b[49m\n\u001b[0;32m    146\u001b[0m \u001b[43m\u001b[49m\u001b[43m)\u001b[49m\n\u001b[0;32m    147\u001b[0m unprocessed_items \u001b[38;5;241m=\u001b[39m response[\u001b[38;5;124m'\u001b[39m\u001b[38;5;124mUnprocessedItems\u001b[39m\u001b[38;5;124m'\u001b[39m]\n\u001b[0;32m    148\u001b[0m \u001b[38;5;28;01mif\u001b[39;00m \u001b[38;5;129;01mnot\u001b[39;00m unprocessed_items:\n",
      "File \u001b[1;32mc:\\Users\\Zunaira\\Documents\\8th Semester\\DDE\\A01\\Distributed-Data-Engineering-Bitcoin-Tweets-using-DynamoDB\\venv\\lib\\site-packages\\botocore\\client.py:570\u001b[0m, in \u001b[0;36mClientCreator._create_api_method.<locals>._api_call\u001b[1;34m(self, *args, **kwargs)\u001b[0m\n\u001b[0;32m    566\u001b[0m     \u001b[38;5;28;01mraise\u001b[39;00m \u001b[38;5;167;01mTypeError\u001b[39;00m(\n\u001b[0;32m    567\u001b[0m         \u001b[38;5;124mf\u001b[39m\u001b[38;5;124m\"\u001b[39m\u001b[38;5;132;01m{\u001b[39;00mpy_operation_name\u001b[38;5;132;01m}\u001b[39;00m\u001b[38;5;124m() only accepts keyword arguments.\u001b[39m\u001b[38;5;124m\"\u001b[39m\n\u001b[0;32m    568\u001b[0m     )\n\u001b[0;32m    569\u001b[0m \u001b[38;5;66;03m# The \"self\" in this scope is referring to the BaseClient.\u001b[39;00m\n\u001b[1;32m--> 570\u001b[0m \u001b[38;5;28;01mreturn\u001b[39;00m \u001b[38;5;28;43mself\u001b[39;49m\u001b[38;5;241;43m.\u001b[39;49m\u001b[43m_make_api_call\u001b[49m\u001b[43m(\u001b[49m\u001b[43moperation_name\u001b[49m\u001b[43m,\u001b[49m\u001b[43m \u001b[49m\u001b[43mkwargs\u001b[49m\u001b[43m)\u001b[49m\n",
      "File \u001b[1;32mc:\\Users\\Zunaira\\Documents\\8th Semester\\DDE\\A01\\Distributed-Data-Engineering-Bitcoin-Tweets-using-DynamoDB\\venv\\lib\\site-packages\\botocore\\context.py:124\u001b[0m, in \u001b[0;36mwith_current_context.<locals>.decorator.<locals>.wrapper\u001b[1;34m(*args, **kwargs)\u001b[0m\n\u001b[0;32m    122\u001b[0m \u001b[38;5;28;01mif\u001b[39;00m hook:\n\u001b[0;32m    123\u001b[0m     hook()\n\u001b[1;32m--> 124\u001b[0m \u001b[38;5;28;01mreturn\u001b[39;00m func(\u001b[38;5;241m*\u001b[39margs, \u001b[38;5;241m*\u001b[39m\u001b[38;5;241m*\u001b[39mkwargs)\n",
      "File \u001b[1;32mc:\\Users\\Zunaira\\Documents\\8th Semester\\DDE\\A01\\Distributed-Data-Engineering-Bitcoin-Tweets-using-DynamoDB\\venv\\lib\\site-packages\\botocore\\client.py:1013\u001b[0m, in \u001b[0;36mBaseClient._make_api_call\u001b[1;34m(self, operation_name, api_params)\u001b[0m\n\u001b[0;32m   1009\u001b[0m     maybe_compress_request(\n\u001b[0;32m   1010\u001b[0m         \u001b[38;5;28mself\u001b[39m\u001b[38;5;241m.\u001b[39mmeta\u001b[38;5;241m.\u001b[39mconfig, request_dict, operation_model\n\u001b[0;32m   1011\u001b[0m     )\n\u001b[0;32m   1012\u001b[0m     apply_request_checksum(request_dict)\n\u001b[1;32m-> 1013\u001b[0m     http, parsed_response \u001b[38;5;241m=\u001b[39m \u001b[38;5;28;43mself\u001b[39;49m\u001b[38;5;241;43m.\u001b[39;49m\u001b[43m_make_request\u001b[49m\u001b[43m(\u001b[49m\n\u001b[0;32m   1014\u001b[0m \u001b[43m        \u001b[49m\u001b[43moperation_model\u001b[49m\u001b[43m,\u001b[49m\u001b[43m \u001b[49m\u001b[43mrequest_dict\u001b[49m\u001b[43m,\u001b[49m\u001b[43m \u001b[49m\u001b[43mrequest_context\u001b[49m\n\u001b[0;32m   1015\u001b[0m \u001b[43m    \u001b[49m\u001b[43m)\u001b[49m\n\u001b[0;32m   1017\u001b[0m \u001b[38;5;28mself\u001b[39m\u001b[38;5;241m.\u001b[39mmeta\u001b[38;5;241m.\u001b[39mevents\u001b[38;5;241m.\u001b[39memit(\n\u001b[0;32m   1018\u001b[0m     \u001b[38;5;124mf\u001b[39m\u001b[38;5;124m'\u001b[39m\u001b[38;5;124mafter-call.\u001b[39m\u001b[38;5;132;01m{\u001b[39;00mservice_id\u001b[38;5;132;01m}\u001b[39;00m\u001b[38;5;124m.\u001b[39m\u001b[38;5;132;01m{\u001b[39;00moperation_name\u001b[38;5;132;01m}\u001b[39;00m\u001b[38;5;124m'\u001b[39m,\n\u001b[0;32m   1019\u001b[0m     http_response\u001b[38;5;241m=\u001b[39mhttp,\n\u001b[1;32m   (...)\u001b[0m\n\u001b[0;32m   1022\u001b[0m     context\u001b[38;5;241m=\u001b[39mrequest_context,\n\u001b[0;32m   1023\u001b[0m )\n\u001b[0;32m   1025\u001b[0m \u001b[38;5;28;01mif\u001b[39;00m http\u001b[38;5;241m.\u001b[39mstatus_code \u001b[38;5;241m>\u001b[39m\u001b[38;5;241m=\u001b[39m \u001b[38;5;241m300\u001b[39m:\n",
      "File \u001b[1;32mc:\\Users\\Zunaira\\Documents\\8th Semester\\DDE\\A01\\Distributed-Data-Engineering-Bitcoin-Tweets-using-DynamoDB\\venv\\lib\\site-packages\\botocore\\client.py:1037\u001b[0m, in \u001b[0;36mBaseClient._make_request\u001b[1;34m(self, operation_model, request_dict, request_context)\u001b[0m\n\u001b[0;32m   1035\u001b[0m \u001b[38;5;28;01mdef\u001b[39;00m\u001b[38;5;250m \u001b[39m\u001b[38;5;21m_make_request\u001b[39m(\u001b[38;5;28mself\u001b[39m, operation_model, request_dict, request_context):\n\u001b[0;32m   1036\u001b[0m     \u001b[38;5;28;01mtry\u001b[39;00m:\n\u001b[1;32m-> 1037\u001b[0m         \u001b[38;5;28;01mreturn\u001b[39;00m \u001b[38;5;28;43mself\u001b[39;49m\u001b[38;5;241;43m.\u001b[39;49m\u001b[43m_endpoint\u001b[49m\u001b[38;5;241;43m.\u001b[39;49m\u001b[43mmake_request\u001b[49m\u001b[43m(\u001b[49m\u001b[43moperation_model\u001b[49m\u001b[43m,\u001b[49m\u001b[43m \u001b[49m\u001b[43mrequest_dict\u001b[49m\u001b[43m)\u001b[49m\n\u001b[0;32m   1038\u001b[0m     \u001b[38;5;28;01mexcept\u001b[39;00m \u001b[38;5;167;01mException\u001b[39;00m \u001b[38;5;28;01mas\u001b[39;00m e:\n\u001b[0;32m   1039\u001b[0m         \u001b[38;5;28mself\u001b[39m\u001b[38;5;241m.\u001b[39mmeta\u001b[38;5;241m.\u001b[39mevents\u001b[38;5;241m.\u001b[39memit(\n\u001b[0;32m   1040\u001b[0m             \u001b[38;5;124mf\u001b[39m\u001b[38;5;124m'\u001b[39m\u001b[38;5;124mafter-call-error.\u001b[39m\u001b[38;5;132;01m{\u001b[39;00m\u001b[38;5;28mself\u001b[39m\u001b[38;5;241m.\u001b[39m_service_model\u001b[38;5;241m.\u001b[39mservice_id\u001b[38;5;241m.\u001b[39mhyphenize()\u001b[38;5;132;01m}\u001b[39;00m\u001b[38;5;124m.\u001b[39m\u001b[38;5;132;01m{\u001b[39;00moperation_model\u001b[38;5;241m.\u001b[39mname\u001b[38;5;132;01m}\u001b[39;00m\u001b[38;5;124m'\u001b[39m,\n\u001b[0;32m   1041\u001b[0m             exception\u001b[38;5;241m=\u001b[39me,\n\u001b[0;32m   1042\u001b[0m             context\u001b[38;5;241m=\u001b[39mrequest_context,\n\u001b[0;32m   1043\u001b[0m         )\n",
      "File \u001b[1;32mc:\\Users\\Zunaira\\Documents\\8th Semester\\DDE\\A01\\Distributed-Data-Engineering-Bitcoin-Tweets-using-DynamoDB\\venv\\lib\\site-packages\\botocore\\endpoint.py:119\u001b[0m, in \u001b[0;36mEndpoint.make_request\u001b[1;34m(self, operation_model, request_dict)\u001b[0m\n\u001b[0;32m    113\u001b[0m \u001b[38;5;28;01mdef\u001b[39;00m\u001b[38;5;250m \u001b[39m\u001b[38;5;21mmake_request\u001b[39m(\u001b[38;5;28mself\u001b[39m, operation_model, request_dict):\n\u001b[0;32m    114\u001b[0m     logger\u001b[38;5;241m.\u001b[39mdebug(\n\u001b[0;32m    115\u001b[0m         \u001b[38;5;124m\"\u001b[39m\u001b[38;5;124mMaking request for \u001b[39m\u001b[38;5;132;01m%s\u001b[39;00m\u001b[38;5;124m with params: \u001b[39m\u001b[38;5;132;01m%s\u001b[39;00m\u001b[38;5;124m\"\u001b[39m,\n\u001b[0;32m    116\u001b[0m         operation_model,\n\u001b[0;32m    117\u001b[0m         request_dict,\n\u001b[0;32m    118\u001b[0m     )\n\u001b[1;32m--> 119\u001b[0m     \u001b[38;5;28;01mreturn\u001b[39;00m \u001b[38;5;28;43mself\u001b[39;49m\u001b[38;5;241;43m.\u001b[39;49m\u001b[43m_send_request\u001b[49m\u001b[43m(\u001b[49m\u001b[43mrequest_dict\u001b[49m\u001b[43m,\u001b[49m\u001b[43m \u001b[49m\u001b[43moperation_model\u001b[49m\u001b[43m)\u001b[49m\n",
      "File \u001b[1;32mc:\\Users\\Zunaira\\Documents\\8th Semester\\DDE\\A01\\Distributed-Data-Engineering-Bitcoin-Tweets-using-DynamoDB\\venv\\lib\\site-packages\\botocore\\endpoint.py:196\u001b[0m, in \u001b[0;36mEndpoint._send_request\u001b[1;34m(self, request_dict, operation_model)\u001b[0m\n\u001b[0;32m    194\u001b[0m context \u001b[38;5;241m=\u001b[39m request_dict[\u001b[38;5;124m'\u001b[39m\u001b[38;5;124mcontext\u001b[39m\u001b[38;5;124m'\u001b[39m]\n\u001b[0;32m    195\u001b[0m \u001b[38;5;28mself\u001b[39m\u001b[38;5;241m.\u001b[39m_update_retries_context(context, attempts)\n\u001b[1;32m--> 196\u001b[0m request \u001b[38;5;241m=\u001b[39m \u001b[38;5;28;43mself\u001b[39;49m\u001b[38;5;241;43m.\u001b[39;49m\u001b[43mcreate_request\u001b[49m\u001b[43m(\u001b[49m\u001b[43mrequest_dict\u001b[49m\u001b[43m,\u001b[49m\u001b[43m \u001b[49m\u001b[43moperation_model\u001b[49m\u001b[43m)\u001b[49m\n\u001b[0;32m    197\u001b[0m success_response, exception \u001b[38;5;241m=\u001b[39m \u001b[38;5;28mself\u001b[39m\u001b[38;5;241m.\u001b[39m_get_response(\n\u001b[0;32m    198\u001b[0m     request, operation_model, context\n\u001b[0;32m    199\u001b[0m )\n\u001b[0;32m    200\u001b[0m \u001b[38;5;28;01mwhile\u001b[39;00m \u001b[38;5;28mself\u001b[39m\u001b[38;5;241m.\u001b[39m_needs_retry(\n\u001b[0;32m    201\u001b[0m     attempts,\n\u001b[0;32m    202\u001b[0m     operation_model,\n\u001b[1;32m   (...)\u001b[0m\n\u001b[0;32m    205\u001b[0m     exception,\n\u001b[0;32m    206\u001b[0m ):\n",
      "File \u001b[1;32mc:\\Users\\Zunaira\\Documents\\8th Semester\\DDE\\A01\\Distributed-Data-Engineering-Bitcoin-Tweets-using-DynamoDB\\venv\\lib\\site-packages\\botocore\\endpoint.py:132\u001b[0m, in \u001b[0;36mEndpoint.create_request\u001b[1;34m(self, params, operation_model)\u001b[0m\n\u001b[0;32m    130\u001b[0m     service_id \u001b[38;5;241m=\u001b[39m operation_model\u001b[38;5;241m.\u001b[39mservice_model\u001b[38;5;241m.\u001b[39mservice_id\u001b[38;5;241m.\u001b[39mhyphenize()\n\u001b[0;32m    131\u001b[0m     event_name \u001b[38;5;241m=\u001b[39m \u001b[38;5;124mf\u001b[39m\u001b[38;5;124m'\u001b[39m\u001b[38;5;124mrequest-created.\u001b[39m\u001b[38;5;132;01m{\u001b[39;00mservice_id\u001b[38;5;132;01m}\u001b[39;00m\u001b[38;5;124m.\u001b[39m\u001b[38;5;132;01m{\u001b[39;00moperation_model\u001b[38;5;241m.\u001b[39mname\u001b[38;5;132;01m}\u001b[39;00m\u001b[38;5;124m'\u001b[39m\n\u001b[1;32m--> 132\u001b[0m     \u001b[38;5;28;43mself\u001b[39;49m\u001b[38;5;241;43m.\u001b[39;49m\u001b[43m_event_emitter\u001b[49m\u001b[38;5;241;43m.\u001b[39;49m\u001b[43memit\u001b[49m\u001b[43m(\u001b[49m\n\u001b[0;32m    133\u001b[0m \u001b[43m        \u001b[49m\u001b[43mevent_name\u001b[49m\u001b[43m,\u001b[49m\n\u001b[0;32m    134\u001b[0m \u001b[43m        \u001b[49m\u001b[43mrequest\u001b[49m\u001b[38;5;241;43m=\u001b[39;49m\u001b[43mrequest\u001b[49m\u001b[43m,\u001b[49m\n\u001b[0;32m    135\u001b[0m \u001b[43m        \u001b[49m\u001b[43moperation_name\u001b[49m\u001b[38;5;241;43m=\u001b[39;49m\u001b[43moperation_model\u001b[49m\u001b[38;5;241;43m.\u001b[39;49m\u001b[43mname\u001b[49m\u001b[43m,\u001b[49m\n\u001b[0;32m    136\u001b[0m \u001b[43m    \u001b[49m\u001b[43m)\u001b[49m\n\u001b[0;32m    137\u001b[0m prepared_request \u001b[38;5;241m=\u001b[39m \u001b[38;5;28mself\u001b[39m\u001b[38;5;241m.\u001b[39mprepare_request(request)\n\u001b[0;32m    138\u001b[0m \u001b[38;5;28;01mreturn\u001b[39;00m prepared_request\n",
      "File \u001b[1;32mc:\\Users\\Zunaira\\Documents\\8th Semester\\DDE\\A01\\Distributed-Data-Engineering-Bitcoin-Tweets-using-DynamoDB\\venv\\lib\\site-packages\\botocore\\hooks.py:412\u001b[0m, in \u001b[0;36mEventAliaser.emit\u001b[1;34m(self, event_name, **kwargs)\u001b[0m\n\u001b[0;32m    410\u001b[0m \u001b[38;5;28;01mdef\u001b[39;00m\u001b[38;5;250m \u001b[39m\u001b[38;5;21memit\u001b[39m(\u001b[38;5;28mself\u001b[39m, event_name, \u001b[38;5;241m*\u001b[39m\u001b[38;5;241m*\u001b[39mkwargs):\n\u001b[0;32m    411\u001b[0m     aliased_event_name \u001b[38;5;241m=\u001b[39m \u001b[38;5;28mself\u001b[39m\u001b[38;5;241m.\u001b[39m_alias_event_name(event_name)\n\u001b[1;32m--> 412\u001b[0m     \u001b[38;5;28;01mreturn\u001b[39;00m \u001b[38;5;28mself\u001b[39m\u001b[38;5;241m.\u001b[39m_emitter\u001b[38;5;241m.\u001b[39memit(aliased_event_name, \u001b[38;5;241m*\u001b[39m\u001b[38;5;241m*\u001b[39mkwargs)\n",
      "File \u001b[1;32mc:\\Users\\Zunaira\\Documents\\8th Semester\\DDE\\A01\\Distributed-Data-Engineering-Bitcoin-Tweets-using-DynamoDB\\venv\\lib\\site-packages\\botocore\\hooks.py:256\u001b[0m, in \u001b[0;36mHierarchicalEmitter.emit\u001b[1;34m(self, event_name, **kwargs)\u001b[0m\n\u001b[0;32m    245\u001b[0m \u001b[38;5;28;01mdef\u001b[39;00m\u001b[38;5;250m \u001b[39m\u001b[38;5;21memit\u001b[39m(\u001b[38;5;28mself\u001b[39m, event_name, \u001b[38;5;241m*\u001b[39m\u001b[38;5;241m*\u001b[39mkwargs):\n\u001b[0;32m    246\u001b[0m \u001b[38;5;250m    \u001b[39m\u001b[38;5;124;03m\"\"\"\u001b[39;00m\n\u001b[0;32m    247\u001b[0m \u001b[38;5;124;03m    Emit an event by name with arguments passed as keyword args.\u001b[39;00m\n\u001b[0;32m    248\u001b[0m \n\u001b[1;32m   (...)\u001b[0m\n\u001b[0;32m    254\u001b[0m \u001b[38;5;124;03m             handlers.\u001b[39;00m\n\u001b[0;32m    255\u001b[0m \u001b[38;5;124;03m    \"\"\"\u001b[39;00m\n\u001b[1;32m--> 256\u001b[0m     \u001b[38;5;28;01mreturn\u001b[39;00m \u001b[38;5;28;43mself\u001b[39;49m\u001b[38;5;241;43m.\u001b[39;49m\u001b[43m_emit\u001b[49m\u001b[43m(\u001b[49m\u001b[43mevent_name\u001b[49m\u001b[43m,\u001b[49m\u001b[43m \u001b[49m\u001b[43mkwargs\u001b[49m\u001b[43m)\u001b[49m\n",
      "File \u001b[1;32mc:\\Users\\Zunaira\\Documents\\8th Semester\\DDE\\A01\\Distributed-Data-Engineering-Bitcoin-Tweets-using-DynamoDB\\venv\\lib\\site-packages\\botocore\\hooks.py:239\u001b[0m, in \u001b[0;36mHierarchicalEmitter._emit\u001b[1;34m(self, event_name, kwargs, stop_on_response)\u001b[0m\n\u001b[0;32m    237\u001b[0m \u001b[38;5;28;01mfor\u001b[39;00m handler \u001b[38;5;129;01min\u001b[39;00m handlers_to_call:\n\u001b[0;32m    238\u001b[0m     logger\u001b[38;5;241m.\u001b[39mdebug(\u001b[38;5;124m'\u001b[39m\u001b[38;5;124mEvent \u001b[39m\u001b[38;5;132;01m%s\u001b[39;00m\u001b[38;5;124m: calling handler \u001b[39m\u001b[38;5;132;01m%s\u001b[39;00m\u001b[38;5;124m'\u001b[39m, event_name, handler)\n\u001b[1;32m--> 239\u001b[0m     response \u001b[38;5;241m=\u001b[39m handler(\u001b[38;5;241m*\u001b[39m\u001b[38;5;241m*\u001b[39mkwargs)\n\u001b[0;32m    240\u001b[0m     responses\u001b[38;5;241m.\u001b[39mappend((handler, response))\n\u001b[0;32m    241\u001b[0m     \u001b[38;5;28;01mif\u001b[39;00m stop_on_response \u001b[38;5;129;01mand\u001b[39;00m response \u001b[38;5;129;01mis\u001b[39;00m \u001b[38;5;129;01mnot\u001b[39;00m \u001b[38;5;28;01mNone\u001b[39;00m:\n",
      "File \u001b[1;32mc:\\Users\\Zunaira\\Documents\\8th Semester\\DDE\\A01\\Distributed-Data-Engineering-Bitcoin-Tweets-using-DynamoDB\\venv\\lib\\site-packages\\botocore\\signers.py:106\u001b[0m, in \u001b[0;36mRequestSigner.handler\u001b[1;34m(self, operation_name, request, **kwargs)\u001b[0m\n\u001b[0;32m    101\u001b[0m \u001b[38;5;28;01mdef\u001b[39;00m\u001b[38;5;250m \u001b[39m\u001b[38;5;21mhandler\u001b[39m(\u001b[38;5;28mself\u001b[39m, operation_name\u001b[38;5;241m=\u001b[39m\u001b[38;5;28;01mNone\u001b[39;00m, request\u001b[38;5;241m=\u001b[39m\u001b[38;5;28;01mNone\u001b[39;00m, \u001b[38;5;241m*\u001b[39m\u001b[38;5;241m*\u001b[39mkwargs):\n\u001b[0;32m    102\u001b[0m     \u001b[38;5;66;03m# This is typically hooked up to the \"request-created\" event\u001b[39;00m\n\u001b[0;32m    103\u001b[0m     \u001b[38;5;66;03m# from a client's event emitter.  When a new request is created\u001b[39;00m\n\u001b[0;32m    104\u001b[0m     \u001b[38;5;66;03m# this method is invoked to sign the request.\u001b[39;00m\n\u001b[0;32m    105\u001b[0m     \u001b[38;5;66;03m# Don't call this method directly.\u001b[39;00m\n\u001b[1;32m--> 106\u001b[0m     \u001b[38;5;28;01mreturn\u001b[39;00m \u001b[38;5;28;43mself\u001b[39;49m\u001b[38;5;241;43m.\u001b[39;49m\u001b[43msign\u001b[49m\u001b[43m(\u001b[49m\u001b[43moperation_name\u001b[49m\u001b[43m,\u001b[49m\u001b[43m \u001b[49m\u001b[43mrequest\u001b[49m\u001b[43m)\u001b[49m\n",
      "File \u001b[1;32mc:\\Users\\Zunaira\\Documents\\8th Semester\\DDE\\A01\\Distributed-Data-Engineering-Bitcoin-Tweets-using-DynamoDB\\venv\\lib\\site-packages\\botocore\\signers.py:198\u001b[0m, in \u001b[0;36mRequestSigner.sign\u001b[1;34m(self, operation_name, request, region_name, signing_type, expires_in, signing_name)\u001b[0m\n\u001b[0;32m    195\u001b[0m     \u001b[38;5;28;01melse\u001b[39;00m:\n\u001b[0;32m    196\u001b[0m         \u001b[38;5;28;01mraise\u001b[39;00m e\n\u001b[1;32m--> 198\u001b[0m \u001b[43mauth\u001b[49m\u001b[38;5;241;43m.\u001b[39;49m\u001b[43madd_auth\u001b[49m\u001b[43m(\u001b[49m\u001b[43mrequest\u001b[49m\u001b[43m)\u001b[49m\n",
      "File \u001b[1;32mc:\\Users\\Zunaira\\Documents\\8th Semester\\DDE\\A01\\Distributed-Data-Engineering-Bitcoin-Tweets-using-DynamoDB\\venv\\lib\\site-packages\\botocore\\auth.py:424\u001b[0m, in \u001b[0;36mSigV4Auth.add_auth\u001b[1;34m(self, request)\u001b[0m\n\u001b[0;32m    422\u001b[0m \u001b[38;5;28;01mdef\u001b[39;00m\u001b[38;5;250m \u001b[39m\u001b[38;5;21madd_auth\u001b[39m(\u001b[38;5;28mself\u001b[39m, request):\n\u001b[0;32m    423\u001b[0m     \u001b[38;5;28;01mif\u001b[39;00m \u001b[38;5;28mself\u001b[39m\u001b[38;5;241m.\u001b[39mcredentials \u001b[38;5;129;01mis\u001b[39;00m \u001b[38;5;28;01mNone\u001b[39;00m:\n\u001b[1;32m--> 424\u001b[0m         \u001b[38;5;28;01mraise\u001b[39;00m NoCredentialsError()\n\u001b[0;32m    425\u001b[0m     datetime_now \u001b[38;5;241m=\u001b[39m datetime\u001b[38;5;241m.\u001b[39mdatetime\u001b[38;5;241m.\u001b[39mutcnow()\n\u001b[0;32m    426\u001b[0m     request\u001b[38;5;241m.\u001b[39mcontext[\u001b[38;5;124m'\u001b[39m\u001b[38;5;124mtimestamp\u001b[39m\u001b[38;5;124m'\u001b[39m] \u001b[38;5;241m=\u001b[39m datetime_now\u001b[38;5;241m.\u001b[39mstrftime(SIGV4_TIMESTAMP)\n",
      "\u001b[1;31mNoCredentialsError\u001b[0m: Unable to locate credentials"
     ]
    }
   ],
   "source": [
    "    # Insert data from CSV\n",
    "insert_data(\"data/Bitcoin_tweets.csv\")\n",
    "print(\"Data inserted successfully\")"
   ]
  },
  {
   "cell_type": "markdown",
   "id": "cd8f301e",
   "metadata": {},
   "source": [
    "## Running Query"
   ]
  },
  {
   "cell_type": "code",
   "execution_count": 25,
   "id": "e0ad6df3",
   "metadata": {},
   "outputs": [
    {
     "name": "stdout",
     "output_type": "stream",
     "text": [
      "Top 5 users by followers:\n"
     ]
    },
    {
     "ename": "NoCredentialsError",
     "evalue": "Unable to locate credentials",
     "output_type": "error",
     "traceback": [
      "\u001b[1;31m---------------------------------------------------------------------------\u001b[0m",
      "\u001b[1;31mNoCredentialsError\u001b[0m                        Traceback (most recent call last)",
      "Cell \u001b[1;32mIn[25], line 5\u001b[0m\n\u001b[0;32m      2\u001b[0m \u001b[38;5;28;01mif\u001b[39;00m \u001b[38;5;18m__name__\u001b[39m \u001b[38;5;241m==\u001b[39m \u001b[38;5;124m\"\u001b[39m\u001b[38;5;124m__main__\u001b[39m\u001b[38;5;124m\"\u001b[39m:\n\u001b[0;32m      3\u001b[0m     \u001b[38;5;66;03m# Example of how to call these functions\u001b[39;00m\n\u001b[0;32m      4\u001b[0m     \u001b[38;5;28mprint\u001b[39m(\u001b[38;5;124m\"\u001b[39m\u001b[38;5;124mTop 5 users by followers:\u001b[39m\u001b[38;5;124m\"\u001b[39m)\n\u001b[1;32m----> 5\u001b[0m     top_users \u001b[38;5;241m=\u001b[39m \u001b[43mget_top_users_by_followers\u001b[49m\u001b[43m(\u001b[49m\u001b[38;5;241;43m5\u001b[39;49m\u001b[43m)\u001b[49m\n\u001b[0;32m      6\u001b[0m     \u001b[38;5;28;01mfor\u001b[39;00m user \u001b[38;5;129;01min\u001b[39;00m top_users:\n\u001b[0;32m      7\u001b[0m         \u001b[38;5;28mprint\u001b[39m(\u001b[38;5;124mf\u001b[39m\u001b[38;5;124m\"\u001b[39m\u001b[38;5;132;01m{\u001b[39;00muser[\u001b[38;5;124m'\u001b[39m\u001b[38;5;124muser_name\u001b[39m\u001b[38;5;124m'\u001b[39m]\u001b[38;5;132;01m}\u001b[39;00m\u001b[38;5;124m: \u001b[39m\u001b[38;5;132;01m{\u001b[39;00muser[\u001b[38;5;124m'\u001b[39m\u001b[38;5;124muser_followers\u001b[39m\u001b[38;5;124m'\u001b[39m]\u001b[38;5;132;01m}\u001b[39;00m\u001b[38;5;124m followers\u001b[39m\u001b[38;5;124m\"\u001b[39m)\n",
      "Cell \u001b[1;32mIn[21], line 3\u001b[0m, in \u001b[0;36mget_top_users_by_followers\u001b[1;34m(k)\u001b[0m\n\u001b[0;32m      2\u001b[0m \u001b[38;5;28;01mdef\u001b[39;00m\u001b[38;5;250m \u001b[39m\u001b[38;5;21mget_top_users_by_followers\u001b[39m(k\u001b[38;5;241m=\u001b[39m\u001b[38;5;241m10\u001b[39m):\n\u001b[1;32m----> 3\u001b[0m     response \u001b[38;5;241m=\u001b[39m \u001b[43mtable\u001b[49m\u001b[38;5;241;43m.\u001b[39;49m\u001b[43mquery\u001b[49m\u001b[43m(\u001b[49m\n\u001b[0;32m      4\u001b[0m \u001b[43m        \u001b[49m\u001b[43mIndexName\u001b[49m\u001b[38;5;241;43m=\u001b[39;49m\u001b[38;5;124;43m'\u001b[39;49m\u001b[38;5;124;43mFollowersIndex\u001b[39;49m\u001b[38;5;124;43m'\u001b[39;49m\u001b[43m,\u001b[49m\n\u001b[0;32m      5\u001b[0m \u001b[43m        \u001b[49m\u001b[43mKeyConditionExpression\u001b[49m\u001b[38;5;241;43m=\u001b[39;49m\u001b[43mKey\u001b[49m\u001b[43m(\u001b[49m\u001b[38;5;124;43m'\u001b[39;49m\u001b[38;5;124;43mdummy_attribute\u001b[39;49m\u001b[38;5;124;43m'\u001b[39;49m\u001b[43m)\u001b[49m\u001b[38;5;241;43m.\u001b[39;49m\u001b[43meq\u001b[49m\u001b[43m(\u001b[49m\u001b[38;5;124;43m'\u001b[39;49m\u001b[38;5;124;43mALL_USERS\u001b[39;49m\u001b[38;5;124;43m'\u001b[39;49m\u001b[43m)\u001b[49m\u001b[43m,\u001b[49m\n\u001b[0;32m      6\u001b[0m \u001b[43m        \u001b[49m\u001b[43mScanIndexForward\u001b[49m\u001b[38;5;241;43m=\u001b[39;49m\u001b[38;5;28;43;01mFalse\u001b[39;49;00m\u001b[43m,\u001b[49m\u001b[43m  \u001b[49m\u001b[38;5;66;43;03m# Descending order (highest followers first)\u001b[39;49;00m\n\u001b[0;32m      7\u001b[0m \u001b[43m        \u001b[49m\u001b[43mLimit\u001b[49m\u001b[38;5;241;43m=\u001b[39;49m\u001b[43mk\u001b[49m\n\u001b[0;32m      8\u001b[0m \u001b[43m    \u001b[49m\u001b[43m)\u001b[49m\n\u001b[0;32m     10\u001b[0m     \u001b[38;5;66;03m# Since there might be duplicate users (one per tweet), get unique users\u001b[39;00m\n\u001b[0;32m     11\u001b[0m     unique_users \u001b[38;5;241m=\u001b[39m {}\n",
      "File \u001b[1;32mc:\\Users\\Zunaira\\Documents\\8th Semester\\DDE\\A01\\Distributed-Data-Engineering-Bitcoin-Tweets-using-DynamoDB\\venv\\lib\\site-packages\\boto3\\resources\\factory.py:581\u001b[0m, in \u001b[0;36mResourceFactory._create_action.<locals>.do_action\u001b[1;34m(self, *args, **kwargs)\u001b[0m\n\u001b[0;32m    580\u001b[0m \u001b[38;5;28;01mdef\u001b[39;00m\u001b[38;5;250m \u001b[39m\u001b[38;5;21mdo_action\u001b[39m(\u001b[38;5;28mself\u001b[39m, \u001b[38;5;241m*\u001b[39margs, \u001b[38;5;241m*\u001b[39m\u001b[38;5;241m*\u001b[39mkwargs):\n\u001b[1;32m--> 581\u001b[0m     response \u001b[38;5;241m=\u001b[39m action(\u001b[38;5;28mself\u001b[39m, \u001b[38;5;241m*\u001b[39margs, \u001b[38;5;241m*\u001b[39m\u001b[38;5;241m*\u001b[39mkwargs)\n\u001b[0;32m    583\u001b[0m     \u001b[38;5;28;01mif\u001b[39;00m \u001b[38;5;28mhasattr\u001b[39m(\u001b[38;5;28mself\u001b[39m, \u001b[38;5;124m'\u001b[39m\u001b[38;5;124mload\u001b[39m\u001b[38;5;124m'\u001b[39m):\n\u001b[0;32m    584\u001b[0m         \u001b[38;5;66;03m# Clear cached data. It will be reloaded the next\u001b[39;00m\n\u001b[0;32m    585\u001b[0m         \u001b[38;5;66;03m# time that an attribute is accessed.\u001b[39;00m\n\u001b[0;32m    586\u001b[0m         \u001b[38;5;66;03m# TODO: Make this configurable in the future?\u001b[39;00m\n\u001b[0;32m    587\u001b[0m         \u001b[38;5;28mself\u001b[39m\u001b[38;5;241m.\u001b[39mmeta\u001b[38;5;241m.\u001b[39mdata \u001b[38;5;241m=\u001b[39m \u001b[38;5;28;01mNone\u001b[39;00m\n",
      "File \u001b[1;32mc:\\Users\\Zunaira\\Documents\\8th Semester\\DDE\\A01\\Distributed-Data-Engineering-Bitcoin-Tweets-using-DynamoDB\\venv\\lib\\site-packages\\boto3\\resources\\action.py:88\u001b[0m, in \u001b[0;36mServiceAction.__call__\u001b[1;34m(self, parent, *args, **kwargs)\u001b[0m\n\u001b[0;32m     79\u001b[0m params\u001b[38;5;241m.\u001b[39mupdate(kwargs)\n\u001b[0;32m     81\u001b[0m logger\u001b[38;5;241m.\u001b[39mdebug(\n\u001b[0;32m     82\u001b[0m     \u001b[38;5;124m'\u001b[39m\u001b[38;5;124mCalling \u001b[39m\u001b[38;5;132;01m%s\u001b[39;00m\u001b[38;5;124m:\u001b[39m\u001b[38;5;132;01m%s\u001b[39;00m\u001b[38;5;124m with \u001b[39m\u001b[38;5;132;01m%r\u001b[39;00m\u001b[38;5;124m'\u001b[39m,\n\u001b[0;32m     83\u001b[0m     parent\u001b[38;5;241m.\u001b[39mmeta\u001b[38;5;241m.\u001b[39mservice_name,\n\u001b[0;32m     84\u001b[0m     operation_name,\n\u001b[0;32m     85\u001b[0m     params,\n\u001b[0;32m     86\u001b[0m )\n\u001b[1;32m---> 88\u001b[0m response \u001b[38;5;241m=\u001b[39m \u001b[38;5;28mgetattr\u001b[39m(parent\u001b[38;5;241m.\u001b[39mmeta\u001b[38;5;241m.\u001b[39mclient, operation_name)(\u001b[38;5;241m*\u001b[39margs, \u001b[38;5;241m*\u001b[39m\u001b[38;5;241m*\u001b[39mparams)\n\u001b[0;32m     90\u001b[0m logger\u001b[38;5;241m.\u001b[39mdebug(\u001b[38;5;124m'\u001b[39m\u001b[38;5;124mResponse: \u001b[39m\u001b[38;5;132;01m%r\u001b[39;00m\u001b[38;5;124m'\u001b[39m, response)\n\u001b[0;32m     92\u001b[0m \u001b[38;5;28;01mreturn\u001b[39;00m \u001b[38;5;28mself\u001b[39m\u001b[38;5;241m.\u001b[39m_response_handler(parent, params, response)\n",
      "File \u001b[1;32mc:\\Users\\Zunaira\\Documents\\8th Semester\\DDE\\A01\\Distributed-Data-Engineering-Bitcoin-Tweets-using-DynamoDB\\venv\\lib\\site-packages\\botocore\\client.py:570\u001b[0m, in \u001b[0;36mClientCreator._create_api_method.<locals>._api_call\u001b[1;34m(self, *args, **kwargs)\u001b[0m\n\u001b[0;32m    566\u001b[0m     \u001b[38;5;28;01mraise\u001b[39;00m \u001b[38;5;167;01mTypeError\u001b[39;00m(\n\u001b[0;32m    567\u001b[0m         \u001b[38;5;124mf\u001b[39m\u001b[38;5;124m\"\u001b[39m\u001b[38;5;132;01m{\u001b[39;00mpy_operation_name\u001b[38;5;132;01m}\u001b[39;00m\u001b[38;5;124m() only accepts keyword arguments.\u001b[39m\u001b[38;5;124m\"\u001b[39m\n\u001b[0;32m    568\u001b[0m     )\n\u001b[0;32m    569\u001b[0m \u001b[38;5;66;03m# The \"self\" in this scope is referring to the BaseClient.\u001b[39;00m\n\u001b[1;32m--> 570\u001b[0m \u001b[38;5;28;01mreturn\u001b[39;00m \u001b[38;5;28;43mself\u001b[39;49m\u001b[38;5;241;43m.\u001b[39;49m\u001b[43m_make_api_call\u001b[49m\u001b[43m(\u001b[49m\u001b[43moperation_name\u001b[49m\u001b[43m,\u001b[49m\u001b[43m \u001b[49m\u001b[43mkwargs\u001b[49m\u001b[43m)\u001b[49m\n",
      "File \u001b[1;32mc:\\Users\\Zunaira\\Documents\\8th Semester\\DDE\\A01\\Distributed-Data-Engineering-Bitcoin-Tweets-using-DynamoDB\\venv\\lib\\site-packages\\botocore\\context.py:124\u001b[0m, in \u001b[0;36mwith_current_context.<locals>.decorator.<locals>.wrapper\u001b[1;34m(*args, **kwargs)\u001b[0m\n\u001b[0;32m    122\u001b[0m \u001b[38;5;28;01mif\u001b[39;00m hook:\n\u001b[0;32m    123\u001b[0m     hook()\n\u001b[1;32m--> 124\u001b[0m \u001b[38;5;28;01mreturn\u001b[39;00m func(\u001b[38;5;241m*\u001b[39margs, \u001b[38;5;241m*\u001b[39m\u001b[38;5;241m*\u001b[39mkwargs)\n",
      "File \u001b[1;32mc:\\Users\\Zunaira\\Documents\\8th Semester\\DDE\\A01\\Distributed-Data-Engineering-Bitcoin-Tweets-using-DynamoDB\\venv\\lib\\site-packages\\botocore\\client.py:1013\u001b[0m, in \u001b[0;36mBaseClient._make_api_call\u001b[1;34m(self, operation_name, api_params)\u001b[0m\n\u001b[0;32m   1009\u001b[0m     maybe_compress_request(\n\u001b[0;32m   1010\u001b[0m         \u001b[38;5;28mself\u001b[39m\u001b[38;5;241m.\u001b[39mmeta\u001b[38;5;241m.\u001b[39mconfig, request_dict, operation_model\n\u001b[0;32m   1011\u001b[0m     )\n\u001b[0;32m   1012\u001b[0m     apply_request_checksum(request_dict)\n\u001b[1;32m-> 1013\u001b[0m     http, parsed_response \u001b[38;5;241m=\u001b[39m \u001b[38;5;28;43mself\u001b[39;49m\u001b[38;5;241;43m.\u001b[39;49m\u001b[43m_make_request\u001b[49m\u001b[43m(\u001b[49m\n\u001b[0;32m   1014\u001b[0m \u001b[43m        \u001b[49m\u001b[43moperation_model\u001b[49m\u001b[43m,\u001b[49m\u001b[43m \u001b[49m\u001b[43mrequest_dict\u001b[49m\u001b[43m,\u001b[49m\u001b[43m \u001b[49m\u001b[43mrequest_context\u001b[49m\n\u001b[0;32m   1015\u001b[0m \u001b[43m    \u001b[49m\u001b[43m)\u001b[49m\n\u001b[0;32m   1017\u001b[0m \u001b[38;5;28mself\u001b[39m\u001b[38;5;241m.\u001b[39mmeta\u001b[38;5;241m.\u001b[39mevents\u001b[38;5;241m.\u001b[39memit(\n\u001b[0;32m   1018\u001b[0m     \u001b[38;5;124mf\u001b[39m\u001b[38;5;124m'\u001b[39m\u001b[38;5;124mafter-call.\u001b[39m\u001b[38;5;132;01m{\u001b[39;00mservice_id\u001b[38;5;132;01m}\u001b[39;00m\u001b[38;5;124m.\u001b[39m\u001b[38;5;132;01m{\u001b[39;00moperation_name\u001b[38;5;132;01m}\u001b[39;00m\u001b[38;5;124m'\u001b[39m,\n\u001b[0;32m   1019\u001b[0m     http_response\u001b[38;5;241m=\u001b[39mhttp,\n\u001b[1;32m   (...)\u001b[0m\n\u001b[0;32m   1022\u001b[0m     context\u001b[38;5;241m=\u001b[39mrequest_context,\n\u001b[0;32m   1023\u001b[0m )\n\u001b[0;32m   1025\u001b[0m \u001b[38;5;28;01mif\u001b[39;00m http\u001b[38;5;241m.\u001b[39mstatus_code \u001b[38;5;241m>\u001b[39m\u001b[38;5;241m=\u001b[39m \u001b[38;5;241m300\u001b[39m:\n",
      "File \u001b[1;32mc:\\Users\\Zunaira\\Documents\\8th Semester\\DDE\\A01\\Distributed-Data-Engineering-Bitcoin-Tweets-using-DynamoDB\\venv\\lib\\site-packages\\botocore\\client.py:1037\u001b[0m, in \u001b[0;36mBaseClient._make_request\u001b[1;34m(self, operation_model, request_dict, request_context)\u001b[0m\n\u001b[0;32m   1035\u001b[0m \u001b[38;5;28;01mdef\u001b[39;00m\u001b[38;5;250m \u001b[39m\u001b[38;5;21m_make_request\u001b[39m(\u001b[38;5;28mself\u001b[39m, operation_model, request_dict, request_context):\n\u001b[0;32m   1036\u001b[0m     \u001b[38;5;28;01mtry\u001b[39;00m:\n\u001b[1;32m-> 1037\u001b[0m         \u001b[38;5;28;01mreturn\u001b[39;00m \u001b[38;5;28;43mself\u001b[39;49m\u001b[38;5;241;43m.\u001b[39;49m\u001b[43m_endpoint\u001b[49m\u001b[38;5;241;43m.\u001b[39;49m\u001b[43mmake_request\u001b[49m\u001b[43m(\u001b[49m\u001b[43moperation_model\u001b[49m\u001b[43m,\u001b[49m\u001b[43m \u001b[49m\u001b[43mrequest_dict\u001b[49m\u001b[43m)\u001b[49m\n\u001b[0;32m   1038\u001b[0m     \u001b[38;5;28;01mexcept\u001b[39;00m \u001b[38;5;167;01mException\u001b[39;00m \u001b[38;5;28;01mas\u001b[39;00m e:\n\u001b[0;32m   1039\u001b[0m         \u001b[38;5;28mself\u001b[39m\u001b[38;5;241m.\u001b[39mmeta\u001b[38;5;241m.\u001b[39mevents\u001b[38;5;241m.\u001b[39memit(\n\u001b[0;32m   1040\u001b[0m             \u001b[38;5;124mf\u001b[39m\u001b[38;5;124m'\u001b[39m\u001b[38;5;124mafter-call-error.\u001b[39m\u001b[38;5;132;01m{\u001b[39;00m\u001b[38;5;28mself\u001b[39m\u001b[38;5;241m.\u001b[39m_service_model\u001b[38;5;241m.\u001b[39mservice_id\u001b[38;5;241m.\u001b[39mhyphenize()\u001b[38;5;132;01m}\u001b[39;00m\u001b[38;5;124m.\u001b[39m\u001b[38;5;132;01m{\u001b[39;00moperation_model\u001b[38;5;241m.\u001b[39mname\u001b[38;5;132;01m}\u001b[39;00m\u001b[38;5;124m'\u001b[39m,\n\u001b[0;32m   1041\u001b[0m             exception\u001b[38;5;241m=\u001b[39me,\n\u001b[0;32m   1042\u001b[0m             context\u001b[38;5;241m=\u001b[39mrequest_context,\n\u001b[0;32m   1043\u001b[0m         )\n",
      "File \u001b[1;32mc:\\Users\\Zunaira\\Documents\\8th Semester\\DDE\\A01\\Distributed-Data-Engineering-Bitcoin-Tweets-using-DynamoDB\\venv\\lib\\site-packages\\botocore\\endpoint.py:119\u001b[0m, in \u001b[0;36mEndpoint.make_request\u001b[1;34m(self, operation_model, request_dict)\u001b[0m\n\u001b[0;32m    113\u001b[0m \u001b[38;5;28;01mdef\u001b[39;00m\u001b[38;5;250m \u001b[39m\u001b[38;5;21mmake_request\u001b[39m(\u001b[38;5;28mself\u001b[39m, operation_model, request_dict):\n\u001b[0;32m    114\u001b[0m     logger\u001b[38;5;241m.\u001b[39mdebug(\n\u001b[0;32m    115\u001b[0m         \u001b[38;5;124m\"\u001b[39m\u001b[38;5;124mMaking request for \u001b[39m\u001b[38;5;132;01m%s\u001b[39;00m\u001b[38;5;124m with params: \u001b[39m\u001b[38;5;132;01m%s\u001b[39;00m\u001b[38;5;124m\"\u001b[39m,\n\u001b[0;32m    116\u001b[0m         operation_model,\n\u001b[0;32m    117\u001b[0m         request_dict,\n\u001b[0;32m    118\u001b[0m     )\n\u001b[1;32m--> 119\u001b[0m     \u001b[38;5;28;01mreturn\u001b[39;00m \u001b[38;5;28;43mself\u001b[39;49m\u001b[38;5;241;43m.\u001b[39;49m\u001b[43m_send_request\u001b[49m\u001b[43m(\u001b[49m\u001b[43mrequest_dict\u001b[49m\u001b[43m,\u001b[49m\u001b[43m \u001b[49m\u001b[43moperation_model\u001b[49m\u001b[43m)\u001b[49m\n",
      "File \u001b[1;32mc:\\Users\\Zunaira\\Documents\\8th Semester\\DDE\\A01\\Distributed-Data-Engineering-Bitcoin-Tweets-using-DynamoDB\\venv\\lib\\site-packages\\botocore\\endpoint.py:196\u001b[0m, in \u001b[0;36mEndpoint._send_request\u001b[1;34m(self, request_dict, operation_model)\u001b[0m\n\u001b[0;32m    194\u001b[0m context \u001b[38;5;241m=\u001b[39m request_dict[\u001b[38;5;124m'\u001b[39m\u001b[38;5;124mcontext\u001b[39m\u001b[38;5;124m'\u001b[39m]\n\u001b[0;32m    195\u001b[0m \u001b[38;5;28mself\u001b[39m\u001b[38;5;241m.\u001b[39m_update_retries_context(context, attempts)\n\u001b[1;32m--> 196\u001b[0m request \u001b[38;5;241m=\u001b[39m \u001b[38;5;28;43mself\u001b[39;49m\u001b[38;5;241;43m.\u001b[39;49m\u001b[43mcreate_request\u001b[49m\u001b[43m(\u001b[49m\u001b[43mrequest_dict\u001b[49m\u001b[43m,\u001b[49m\u001b[43m \u001b[49m\u001b[43moperation_model\u001b[49m\u001b[43m)\u001b[49m\n\u001b[0;32m    197\u001b[0m success_response, exception \u001b[38;5;241m=\u001b[39m \u001b[38;5;28mself\u001b[39m\u001b[38;5;241m.\u001b[39m_get_response(\n\u001b[0;32m    198\u001b[0m     request, operation_model, context\n\u001b[0;32m    199\u001b[0m )\n\u001b[0;32m    200\u001b[0m \u001b[38;5;28;01mwhile\u001b[39;00m \u001b[38;5;28mself\u001b[39m\u001b[38;5;241m.\u001b[39m_needs_retry(\n\u001b[0;32m    201\u001b[0m     attempts,\n\u001b[0;32m    202\u001b[0m     operation_model,\n\u001b[1;32m   (...)\u001b[0m\n\u001b[0;32m    205\u001b[0m     exception,\n\u001b[0;32m    206\u001b[0m ):\n",
      "File \u001b[1;32mc:\\Users\\Zunaira\\Documents\\8th Semester\\DDE\\A01\\Distributed-Data-Engineering-Bitcoin-Tweets-using-DynamoDB\\venv\\lib\\site-packages\\botocore\\endpoint.py:132\u001b[0m, in \u001b[0;36mEndpoint.create_request\u001b[1;34m(self, params, operation_model)\u001b[0m\n\u001b[0;32m    130\u001b[0m     service_id \u001b[38;5;241m=\u001b[39m operation_model\u001b[38;5;241m.\u001b[39mservice_model\u001b[38;5;241m.\u001b[39mservice_id\u001b[38;5;241m.\u001b[39mhyphenize()\n\u001b[0;32m    131\u001b[0m     event_name \u001b[38;5;241m=\u001b[39m \u001b[38;5;124mf\u001b[39m\u001b[38;5;124m'\u001b[39m\u001b[38;5;124mrequest-created.\u001b[39m\u001b[38;5;132;01m{\u001b[39;00mservice_id\u001b[38;5;132;01m}\u001b[39;00m\u001b[38;5;124m.\u001b[39m\u001b[38;5;132;01m{\u001b[39;00moperation_model\u001b[38;5;241m.\u001b[39mname\u001b[38;5;132;01m}\u001b[39;00m\u001b[38;5;124m'\u001b[39m\n\u001b[1;32m--> 132\u001b[0m     \u001b[38;5;28;43mself\u001b[39;49m\u001b[38;5;241;43m.\u001b[39;49m\u001b[43m_event_emitter\u001b[49m\u001b[38;5;241;43m.\u001b[39;49m\u001b[43memit\u001b[49m\u001b[43m(\u001b[49m\n\u001b[0;32m    133\u001b[0m \u001b[43m        \u001b[49m\u001b[43mevent_name\u001b[49m\u001b[43m,\u001b[49m\n\u001b[0;32m    134\u001b[0m \u001b[43m        \u001b[49m\u001b[43mrequest\u001b[49m\u001b[38;5;241;43m=\u001b[39;49m\u001b[43mrequest\u001b[49m\u001b[43m,\u001b[49m\n\u001b[0;32m    135\u001b[0m \u001b[43m        \u001b[49m\u001b[43moperation_name\u001b[49m\u001b[38;5;241;43m=\u001b[39;49m\u001b[43moperation_model\u001b[49m\u001b[38;5;241;43m.\u001b[39;49m\u001b[43mname\u001b[49m\u001b[43m,\u001b[49m\n\u001b[0;32m    136\u001b[0m \u001b[43m    \u001b[49m\u001b[43m)\u001b[49m\n\u001b[0;32m    137\u001b[0m prepared_request \u001b[38;5;241m=\u001b[39m \u001b[38;5;28mself\u001b[39m\u001b[38;5;241m.\u001b[39mprepare_request(request)\n\u001b[0;32m    138\u001b[0m \u001b[38;5;28;01mreturn\u001b[39;00m prepared_request\n",
      "File \u001b[1;32mc:\\Users\\Zunaira\\Documents\\8th Semester\\DDE\\A01\\Distributed-Data-Engineering-Bitcoin-Tweets-using-DynamoDB\\venv\\lib\\site-packages\\botocore\\hooks.py:412\u001b[0m, in \u001b[0;36mEventAliaser.emit\u001b[1;34m(self, event_name, **kwargs)\u001b[0m\n\u001b[0;32m    410\u001b[0m \u001b[38;5;28;01mdef\u001b[39;00m\u001b[38;5;250m \u001b[39m\u001b[38;5;21memit\u001b[39m(\u001b[38;5;28mself\u001b[39m, event_name, \u001b[38;5;241m*\u001b[39m\u001b[38;5;241m*\u001b[39mkwargs):\n\u001b[0;32m    411\u001b[0m     aliased_event_name \u001b[38;5;241m=\u001b[39m \u001b[38;5;28mself\u001b[39m\u001b[38;5;241m.\u001b[39m_alias_event_name(event_name)\n\u001b[1;32m--> 412\u001b[0m     \u001b[38;5;28;01mreturn\u001b[39;00m \u001b[38;5;28mself\u001b[39m\u001b[38;5;241m.\u001b[39m_emitter\u001b[38;5;241m.\u001b[39memit(aliased_event_name, \u001b[38;5;241m*\u001b[39m\u001b[38;5;241m*\u001b[39mkwargs)\n",
      "File \u001b[1;32mc:\\Users\\Zunaira\\Documents\\8th Semester\\DDE\\A01\\Distributed-Data-Engineering-Bitcoin-Tweets-using-DynamoDB\\venv\\lib\\site-packages\\botocore\\hooks.py:256\u001b[0m, in \u001b[0;36mHierarchicalEmitter.emit\u001b[1;34m(self, event_name, **kwargs)\u001b[0m\n\u001b[0;32m    245\u001b[0m \u001b[38;5;28;01mdef\u001b[39;00m\u001b[38;5;250m \u001b[39m\u001b[38;5;21memit\u001b[39m(\u001b[38;5;28mself\u001b[39m, event_name, \u001b[38;5;241m*\u001b[39m\u001b[38;5;241m*\u001b[39mkwargs):\n\u001b[0;32m    246\u001b[0m \u001b[38;5;250m    \u001b[39m\u001b[38;5;124;03m\"\"\"\u001b[39;00m\n\u001b[0;32m    247\u001b[0m \u001b[38;5;124;03m    Emit an event by name with arguments passed as keyword args.\u001b[39;00m\n\u001b[0;32m    248\u001b[0m \n\u001b[1;32m   (...)\u001b[0m\n\u001b[0;32m    254\u001b[0m \u001b[38;5;124;03m             handlers.\u001b[39;00m\n\u001b[0;32m    255\u001b[0m \u001b[38;5;124;03m    \"\"\"\u001b[39;00m\n\u001b[1;32m--> 256\u001b[0m     \u001b[38;5;28;01mreturn\u001b[39;00m \u001b[38;5;28;43mself\u001b[39;49m\u001b[38;5;241;43m.\u001b[39;49m\u001b[43m_emit\u001b[49m\u001b[43m(\u001b[49m\u001b[43mevent_name\u001b[49m\u001b[43m,\u001b[49m\u001b[43m \u001b[49m\u001b[43mkwargs\u001b[49m\u001b[43m)\u001b[49m\n",
      "File \u001b[1;32mc:\\Users\\Zunaira\\Documents\\8th Semester\\DDE\\A01\\Distributed-Data-Engineering-Bitcoin-Tweets-using-DynamoDB\\venv\\lib\\site-packages\\botocore\\hooks.py:239\u001b[0m, in \u001b[0;36mHierarchicalEmitter._emit\u001b[1;34m(self, event_name, kwargs, stop_on_response)\u001b[0m\n\u001b[0;32m    237\u001b[0m \u001b[38;5;28;01mfor\u001b[39;00m handler \u001b[38;5;129;01min\u001b[39;00m handlers_to_call:\n\u001b[0;32m    238\u001b[0m     logger\u001b[38;5;241m.\u001b[39mdebug(\u001b[38;5;124m'\u001b[39m\u001b[38;5;124mEvent \u001b[39m\u001b[38;5;132;01m%s\u001b[39;00m\u001b[38;5;124m: calling handler \u001b[39m\u001b[38;5;132;01m%s\u001b[39;00m\u001b[38;5;124m'\u001b[39m, event_name, handler)\n\u001b[1;32m--> 239\u001b[0m     response \u001b[38;5;241m=\u001b[39m handler(\u001b[38;5;241m*\u001b[39m\u001b[38;5;241m*\u001b[39mkwargs)\n\u001b[0;32m    240\u001b[0m     responses\u001b[38;5;241m.\u001b[39mappend((handler, response))\n\u001b[0;32m    241\u001b[0m     \u001b[38;5;28;01mif\u001b[39;00m stop_on_response \u001b[38;5;129;01mand\u001b[39;00m response \u001b[38;5;129;01mis\u001b[39;00m \u001b[38;5;129;01mnot\u001b[39;00m \u001b[38;5;28;01mNone\u001b[39;00m:\n",
      "File \u001b[1;32mc:\\Users\\Zunaira\\Documents\\8th Semester\\DDE\\A01\\Distributed-Data-Engineering-Bitcoin-Tweets-using-DynamoDB\\venv\\lib\\site-packages\\botocore\\signers.py:106\u001b[0m, in \u001b[0;36mRequestSigner.handler\u001b[1;34m(self, operation_name, request, **kwargs)\u001b[0m\n\u001b[0;32m    101\u001b[0m \u001b[38;5;28;01mdef\u001b[39;00m\u001b[38;5;250m \u001b[39m\u001b[38;5;21mhandler\u001b[39m(\u001b[38;5;28mself\u001b[39m, operation_name\u001b[38;5;241m=\u001b[39m\u001b[38;5;28;01mNone\u001b[39;00m, request\u001b[38;5;241m=\u001b[39m\u001b[38;5;28;01mNone\u001b[39;00m, \u001b[38;5;241m*\u001b[39m\u001b[38;5;241m*\u001b[39mkwargs):\n\u001b[0;32m    102\u001b[0m     \u001b[38;5;66;03m# This is typically hooked up to the \"request-created\" event\u001b[39;00m\n\u001b[0;32m    103\u001b[0m     \u001b[38;5;66;03m# from a client's event emitter.  When a new request is created\u001b[39;00m\n\u001b[0;32m    104\u001b[0m     \u001b[38;5;66;03m# this method is invoked to sign the request.\u001b[39;00m\n\u001b[0;32m    105\u001b[0m     \u001b[38;5;66;03m# Don't call this method directly.\u001b[39;00m\n\u001b[1;32m--> 106\u001b[0m     \u001b[38;5;28;01mreturn\u001b[39;00m \u001b[38;5;28;43mself\u001b[39;49m\u001b[38;5;241;43m.\u001b[39;49m\u001b[43msign\u001b[49m\u001b[43m(\u001b[49m\u001b[43moperation_name\u001b[49m\u001b[43m,\u001b[49m\u001b[43m \u001b[49m\u001b[43mrequest\u001b[49m\u001b[43m)\u001b[49m\n",
      "File \u001b[1;32mc:\\Users\\Zunaira\\Documents\\8th Semester\\DDE\\A01\\Distributed-Data-Engineering-Bitcoin-Tweets-using-DynamoDB\\venv\\lib\\site-packages\\botocore\\signers.py:198\u001b[0m, in \u001b[0;36mRequestSigner.sign\u001b[1;34m(self, operation_name, request, region_name, signing_type, expires_in, signing_name)\u001b[0m\n\u001b[0;32m    195\u001b[0m     \u001b[38;5;28;01melse\u001b[39;00m:\n\u001b[0;32m    196\u001b[0m         \u001b[38;5;28;01mraise\u001b[39;00m e\n\u001b[1;32m--> 198\u001b[0m \u001b[43mauth\u001b[49m\u001b[38;5;241;43m.\u001b[39;49m\u001b[43madd_auth\u001b[49m\u001b[43m(\u001b[49m\u001b[43mrequest\u001b[49m\u001b[43m)\u001b[49m\n",
      "File \u001b[1;32mc:\\Users\\Zunaira\\Documents\\8th Semester\\DDE\\A01\\Distributed-Data-Engineering-Bitcoin-Tweets-using-DynamoDB\\venv\\lib\\site-packages\\botocore\\auth.py:424\u001b[0m, in \u001b[0;36mSigV4Auth.add_auth\u001b[1;34m(self, request)\u001b[0m\n\u001b[0;32m    422\u001b[0m \u001b[38;5;28;01mdef\u001b[39;00m\u001b[38;5;250m \u001b[39m\u001b[38;5;21madd_auth\u001b[39m(\u001b[38;5;28mself\u001b[39m, request):\n\u001b[0;32m    423\u001b[0m     \u001b[38;5;28;01mif\u001b[39;00m \u001b[38;5;28mself\u001b[39m\u001b[38;5;241m.\u001b[39mcredentials \u001b[38;5;129;01mis\u001b[39;00m \u001b[38;5;28;01mNone\u001b[39;00m:\n\u001b[1;32m--> 424\u001b[0m         \u001b[38;5;28;01mraise\u001b[39;00m NoCredentialsError()\n\u001b[0;32m    425\u001b[0m     datetime_now \u001b[38;5;241m=\u001b[39m datetime\u001b[38;5;241m.\u001b[39mdatetime\u001b[38;5;241m.\u001b[39mutcnow()\n\u001b[0;32m    426\u001b[0m     request\u001b[38;5;241m.\u001b[39mcontext[\u001b[38;5;124m'\u001b[39m\u001b[38;5;124mtimestamp\u001b[39m\u001b[38;5;124m'\u001b[39m] \u001b[38;5;241m=\u001b[39m datetime_now\u001b[38;5;241m.\u001b[39mstrftime(SIGV4_TIMESTAMP)\n",
      "\u001b[1;31mNoCredentialsError\u001b[0m: Unable to locate credentials"
     ]
    }
   ],
   "source": [
    "# Example usage\n",
    "if __name__ == \"__main__\":\n",
    "    # Example of how to call these functions\n",
    "    print(\"Top 5 users by followers:\")\n",
    "    top_users = get_top_users_by_followers(5)\n",
    "    for user in top_users:\n",
    "        print(f\"{user['user_name']}: {user['user_followers']} followers\")\n",
    "    \n",
    "    print(\"\\nExample tweets from New York:\")\n",
    "    ny_tweets = get_tweets_by_location(\"New York\")\n",
    "    for tweet in ny_tweets[:3]:  # Just show first 3\n",
    "        print(f\"{tweet['user_name']} ({tweet['date']}): {tweet['text'][:100]}...\")"
   ]
  },
  {
   "cell_type": "code",
   "execution_count": null,
   "id": "44f35985",
   "metadata": {},
   "outputs": [],
   "source": [
    "\n",
    "# Connect to local DynamoDB\n",
    "dynamodb = boto3.resource(\n",
    "    'dynamodb',\n",
    "    region_name='us-east-1',\n",
    "    endpoint_url='http://localhost:8000'\n",
    ")\n",
    "\n",
    "table_name = 'BitcoinTweets'"
   ]
  }
 ],
 "metadata": {
  "kernelspec": {
   "display_name": "venv",
   "language": "python",
   "name": "python3"
  },
  "language_info": {
   "codemirror_mode": {
    "name": "ipython",
    "version": 3
   },
   "file_extension": ".py",
   "mimetype": "text/x-python",
   "name": "python",
   "nbconvert_exporter": "python",
   "pygments_lexer": "ipython3",
   "version": "3.10.14"
  }
 },
 "nbformat": 4,
 "nbformat_minor": 5
}
