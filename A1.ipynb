{
 "cells": [
  {
   "cell_type": "markdown",
   "id": "0ce317f3",
   "metadata": {},
   "source": [
    "# Getting Dataset"
   ]
  },
  {
   "cell_type": "code",
   "execution_count": null,
   "id": "a692a78a",
   "metadata": {},
   "outputs": [],
   "source": [
    "import kagglehub\n",
    "\n",
    "# Download latest version\n",
    "path = kagglehub.dataset_download(\"kaushiksuresh147/bitcoin-tweets\")\n",
    "\n",
    "print(\"Path to dataset files:\", path)"
   ]
  }
 ],
 "metadata": {
  "language_info": {
   "name": "python"
  }
 },
 "nbformat": 4,
 "nbformat_minor": 5
}
